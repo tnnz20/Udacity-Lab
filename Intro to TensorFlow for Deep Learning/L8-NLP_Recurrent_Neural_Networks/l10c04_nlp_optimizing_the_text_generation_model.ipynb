{
  "cells": [
    {
      "cell_type": "markdown",
      "metadata": {
        "id": "punL79CN7Ox6"
      },
      "source": [
        "##### Copyright 2020 The TensorFlow Authors."
      ]
    },
    {
      "cell_type": "code",
      "execution_count": null,
      "metadata": {
        "cellView": "form",
        "id": "_ckMIh7O7s6D"
      },
      "outputs": [],
      "source": [
        "#@title Licensed under the Apache License, Version 2.0 (the \"License\");\n",
        "# you may not use this file except in compliance with the License.\n",
        "# You may obtain a copy of the License at\n",
        "#\n",
        "# https://www.apache.org/licenses/LICENSE-2.0\n",
        "#\n",
        "# Unless required by applicable law or agreed to in writing, software\n",
        "# distributed under the License is distributed on an \"AS IS\" BASIS,\n",
        "# WITHOUT WARRANTIES OR CONDITIONS OF ANY KIND, either express or implied.\n",
        "# See the License for the specific language governing permissions and\n",
        "# limitations under the License."
      ]
    },
    {
      "cell_type": "markdown",
      "metadata": {
        "id": "Ph5eir3Pf-3z"
      },
      "source": [
        "# Optimizing the Text Generation Model"
      ]
    },
    {
      "cell_type": "markdown",
      "metadata": {
        "id": "S5Uhzt6vVIB2"
      },
      "source": [
        "<table class=\"tfo-notebook-buttons\" align=\"left\">\n",
        "  <td>\n",
        "    <a target=\"_blank\" href=\"https://colab.research.google.com/github/tensorflow/examples/blob/master/courses/udacity_intro_to_tensorflow_for_deep_learning/l10c04_nlp_optimizing_the_text_generation_model.ipynb\"><img src=\"https://www.tensorflow.org/images/colab_logo_32px.png\" />Run in Google Colab</a>\n",
        "  </td>\n",
        "  <td>\n",
        "    <a target=\"_blank\" href=\"https://github.com/tensorflow/examples/blob/master/courses/udacity_intro_to_tensorflow_for_deep_learning/l10c04_nlp_optimizing_the_text_generation_model.ipynb\"><img src=\"https://www.tensorflow.org/images/GitHub-Mark-32px.png\" />View source on GitHub</a>\n",
        "  </td>\n",
        "</table>"
      ]
    },
    {
      "cell_type": "markdown",
      "metadata": {
        "id": "dCxhW3mtLmfb"
      },
      "source": [
        "You've already done some amazing work with generating new songs, but so far we've seen some issues with repetition and a fair amount of incoherence. By using more data and further tweaking the model, you'll be able to get improved results. We'll once again use the [Kaggle Song Lyrics Dataset](https://www.kaggle.com/mousehead/songlyrics) here."
      ]
    },
    {
      "cell_type": "markdown",
      "metadata": {
        "id": "4aHK2CYygXom"
      },
      "source": [
        "## Import TensorFlow and related functions"
      ]
    },
    {
      "cell_type": "code",
      "execution_count": 1,
      "metadata": {
        "id": "2LmLTREBf5ng"
      },
      "outputs": [],
      "source": [
        "import tensorflow as tf\n",
        "\n",
        "from tensorflow.keras.preprocessing.text import Tokenizer\n",
        "from tensorflow.keras.preprocessing.sequence import pad_sequences\n",
        "\n",
        "# Other imports for processing data\n",
        "import string\n",
        "import numpy as np\n",
        "import pandas as pd"
      ]
    },
    {
      "cell_type": "markdown",
      "metadata": {
        "id": "GmLTO_dpgge9"
      },
      "source": [
        "## Get the Dataset\n",
        "\n",
        "As noted above, we'll utilize the [Song Lyrics dataset](https://www.kaggle.com/mousehead/songlyrics) on Kaggle again."
      ]
    },
    {
      "cell_type": "code",
      "execution_count": 2,
      "metadata": {
        "id": "4Bf5FVHfganK",
        "outputId": "0863265a-f992-4423-a41d-39cea15301f7",
        "colab": {
          "base_uri": "https://localhost:8080/"
        }
      },
      "outputs": [
        {
          "output_type": "stream",
          "name": "stdout",
          "text": [
            "--2022-05-07 12:54:17--  https://drive.google.com/uc?id=1LiJFZd41ofrWoBtW-pMYsfz1w8Ny0Bj8\n",
            "Resolving drive.google.com (drive.google.com)... 64.233.184.100, 64.233.184.101, 64.233.184.138, ...\n",
            "Connecting to drive.google.com (drive.google.com)|64.233.184.100|:443... connected.\n",
            "HTTP request sent, awaiting response... 303 See Other\n",
            "Location: https://doc-04-ak-docs.googleusercontent.com/docs/securesc/ha0ro937gcuc7l7deffksulhg5h7mbp1/otcfkdrk63mfva9smgeol90s79upkh7n/1651928025000/11118900490791463723/*/1LiJFZd41ofrWoBtW-pMYsfz1w8Ny0Bj8 [following]\n",
            "Warning: wildcards not supported in HTTP.\n",
            "--2022-05-07 12:54:20--  https://doc-04-ak-docs.googleusercontent.com/docs/securesc/ha0ro937gcuc7l7deffksulhg5h7mbp1/otcfkdrk63mfva9smgeol90s79upkh7n/1651928025000/11118900490791463723/*/1LiJFZd41ofrWoBtW-pMYsfz1w8Ny0Bj8\n",
            "Resolving doc-04-ak-docs.googleusercontent.com (doc-04-ak-docs.googleusercontent.com)... 173.194.76.132, 2a00:1450:400c:c00::84\n",
            "Connecting to doc-04-ak-docs.googleusercontent.com (doc-04-ak-docs.googleusercontent.com)|173.194.76.132|:443... connected.\n",
            "HTTP request sent, awaiting response... 200 OK\n",
            "Length: 72436445 (69M) [text/csv]\n",
            "Saving to: ‘/tmp/songdata.csv’\n",
            "\n",
            "/tmp/songdata.csv   100%[===================>]  69.08M   119MB/s    in 0.6s    \n",
            "\n",
            "2022-05-07 12:54:21 (119 MB/s) - ‘/tmp/songdata.csv’ saved [72436445/72436445]\n",
            "\n"
          ]
        }
      ],
      "source": [
        "!wget --no-check-certificate \\\n",
        "    https://drive.google.com/uc?id=1LiJFZd41ofrWoBtW-pMYsfz1w8Ny0Bj8 \\\n",
        "    -O /tmp/songdata.csv"
      ]
    },
    {
      "cell_type": "markdown",
      "metadata": {
        "id": "Jz9x-7dWihxx"
      },
      "source": [
        "## 250 Songs\n",
        "\n",
        "Now we've seen a model trained on just a small sample of songs, and how this often leads to repetition as you get further along in trying to generate new text. Let's switch to using the 250 songs instead, and see if our output improves. This will actually be nearly 10K lines of lyrics, which should be sufficient.\n",
        "\n",
        "Note that we won't use the full dataset here as it will take up quite a bit of RAM and processing time, but you're welcome to try doing so on your own later. If interested, you'll likely want to use only some of the more common words for the Tokenizer, which will help shrink processing time and memory needed (or else you'd have an output array hundreds of thousands of words long)."
      ]
    },
    {
      "cell_type": "markdown",
      "metadata": {
        "id": "nWbMN_19jfRT"
      },
      "source": [
        "### Preprocessing"
      ]
    },
    {
      "cell_type": "code",
      "execution_count": 3,
      "metadata": {
        "id": "LRmPPJegovBe"
      },
      "outputs": [],
      "source": [
        "def tokenize_corpus(corpus, num_words=-1):\n",
        "  # Fit a Tokenizer on the corpus\n",
        "  if num_words > -1:\n",
        "    tokenizer = Tokenizer(num_words=num_words)\n",
        "  else:\n",
        "    tokenizer = Tokenizer()\n",
        "  tokenizer.fit_on_texts(corpus)\n",
        "  return tokenizer\n",
        "\n",
        "def create_lyrics_corpus(dataset, field):\n",
        "  # Remove all other punctuation\n",
        "  dataset[field] = dataset[field].str.replace('[{}]'.format(string.punctuation), '')\n",
        "  # Make it lowercase\n",
        "  dataset[field] = dataset[field].str.lower()\n",
        "  # Make it one long string to split by line\n",
        "  lyrics = dataset[field].str.cat()\n",
        "  corpus = lyrics.split('\\n')\n",
        "  # Remove any trailing whitespace\n",
        "  for l in range(len(corpus)):\n",
        "    corpus[l] = corpus[l].rstrip()\n",
        "  # Remove any empty lines\n",
        "  corpus = [l for l in corpus if l != '']\n",
        "\n",
        "  return corpus"
      ]
    },
    {
      "cell_type": "code",
      "execution_count": 4,
      "metadata": {
        "id": "kIGedF3XjHj4",
        "outputId": "63e6c729-099d-4b24-d196-1e1033915fe2",
        "colab": {
          "base_uri": "https://localhost:8080/"
        }
      },
      "outputs": [
        {
          "output_type": "stream",
          "name": "stderr",
          "text": [
            "/usr/local/lib/python3.7/dist-packages/ipykernel_launcher.py:12: FutureWarning: The default value of regex will change from True to False in a future version.\n",
            "  if sys.path[0] == '':\n"
          ]
        },
        {
          "output_type": "stream",
          "name": "stdout",
          "text": [
            "2000\n"
          ]
        }
      ],
      "source": [
        "def tokenize_corpus(corpus, num_words=-1):\n",
        "  # Fit a Tokenizer on the corpus\n",
        "  if num_words > -1:\n",
        "    tokenizer = Tokenizer(num_words=num_words)\n",
        "  else:\n",
        "    tokenizer = Tokenizer()\n",
        "  tokenizer.fit_on_texts(corpus)\n",
        "  return tokenizer\n",
        "\n",
        "# Read the dataset from csv - this time with 250 songs\n",
        "dataset = pd.read_csv('/tmp/songdata.csv', dtype=str)[:250]\n",
        "# Create the corpus using the 'text' column containing lyrics\n",
        "corpus = create_lyrics_corpus(dataset, 'text')\n",
        "# Tokenize the corpus\n",
        "tokenizer = tokenize_corpus(corpus, num_words=2000)\n",
        "total_words = tokenizer.num_words\n",
        "\n",
        "# There should be a lot more words now\n",
        "print(total_words)"
      ]
    },
    {
      "cell_type": "markdown",
      "metadata": {
        "id": "quoDmw_FkNBA"
      },
      "source": [
        "### Create Sequences and Labels"
      ]
    },
    {
      "cell_type": "code",
      "execution_count": 5,
      "metadata": {
        "id": "kkLAf3HmkPSo"
      },
      "outputs": [],
      "source": [
        "sequences = []\n",
        "for line in corpus:\n",
        "\ttoken_list = tokenizer.texts_to_sequences([line])[0]\n",
        "\tfor i in range(1, len(token_list)):\n",
        "\t\tn_gram_sequence = token_list[:i+1]\n",
        "\t\tsequences.append(n_gram_sequence)\n",
        "\n",
        "# Pad sequences for equal input length \n",
        "max_sequence_len = max([len(seq) for seq in sequences])\n",
        "sequences = np.array(pad_sequences(sequences, maxlen=max_sequence_len, padding='pre'))\n",
        "\n",
        "# Split sequences between the \"input\" sequence and \"output\" predicted word\n",
        "input_sequences, labels = sequences[:,:-1], sequences[:,-1]\n",
        "# One-hot encode the labels\n",
        "one_hot_labels = tf.keras.utils.to_categorical(labels, num_classes=total_words)"
      ]
    },
    {
      "cell_type": "markdown",
      "metadata": {
        "id": "cECbqT-blMk-"
      },
      "source": [
        "### Train a (Better) Text Generation Model\n",
        "\n",
        "With more data, we'll cut off after 100 epochs to avoid keeping you here all day. You'll also want to change your runtime type to GPU if you haven't already (you'll need to re-run the above cells if you change runtimes)."
      ]
    },
    {
      "cell_type": "code",
      "execution_count": 7,
      "metadata": {
        "id": "7nHOp6uWlP_P",
        "outputId": "482d1abe-dcf8-4ac2-9b51-95a7c51c36c3",
        "colab": {
          "base_uri": "https://localhost:8080/"
        }
      },
      "outputs": [
        {
          "output_type": "stream",
          "name": "stdout",
          "text": [
            "Epoch 1/100\n",
            "1480/1480 [==============================] - 33s 14ms/step - loss: 5.9795 - accuracy: 0.0465\n",
            "Epoch 2/100\n",
            "1480/1480 [==============================] - 20s 14ms/step - loss: 5.6803 - accuracy: 0.0494\n",
            "Epoch 3/100\n",
            "1480/1480 [==============================] - 20s 14ms/step - loss: 5.4963 - accuracy: 0.0630\n",
            "Epoch 4/100\n",
            "1480/1480 [==============================] - 21s 14ms/step - loss: 5.3526 - accuracy: 0.0789\n",
            "Epoch 5/100\n",
            "1480/1480 [==============================] - 20s 14ms/step - loss: 5.2130 - accuracy: 0.1029\n",
            "Epoch 6/100\n",
            "1480/1480 [==============================] - 21s 14ms/step - loss: 5.0676 - accuracy: 0.1249\n",
            "Epoch 7/100\n",
            "1480/1480 [==============================] - 20s 14ms/step - loss: 4.9332 - accuracy: 0.1375\n",
            "Epoch 8/100\n",
            "1480/1480 [==============================] - 20s 14ms/step - loss: 4.8109 - accuracy: 0.1472\n",
            "Epoch 9/100\n",
            "1480/1480 [==============================] - 20s 14ms/step - loss: 4.6974 - accuracy: 0.1575\n",
            "Epoch 10/100\n",
            "1480/1480 [==============================] - 20s 14ms/step - loss: 4.5898 - accuracy: 0.1691\n",
            "Epoch 11/100\n",
            "1480/1480 [==============================] - 20s 14ms/step - loss: 4.4753 - accuracy: 0.1782\n",
            "Epoch 12/100\n",
            "1480/1480 [==============================] - 20s 14ms/step - loss: 4.3659 - accuracy: 0.1922\n",
            "Epoch 13/100\n",
            "1480/1480 [==============================] - 20s 14ms/step - loss: 4.2611 - accuracy: 0.2022\n",
            "Epoch 14/100\n",
            "1480/1480 [==============================] - 20s 14ms/step - loss: 4.1834 - accuracy: 0.2107\n",
            "Epoch 15/100\n",
            "1480/1480 [==============================] - 20s 14ms/step - loss: 4.1189 - accuracy: 0.2212\n",
            "Epoch 16/100\n",
            "1480/1480 [==============================] - 20s 14ms/step - loss: 4.0383 - accuracy: 0.2331\n",
            "Epoch 17/100\n",
            "1480/1480 [==============================] - 20s 14ms/step - loss: 3.9651 - accuracy: 0.2416\n",
            "Epoch 18/100\n",
            "1480/1480 [==============================] - 20s 14ms/step - loss: 3.9076 - accuracy: 0.2480\n",
            "Epoch 19/100\n",
            "1480/1480 [==============================] - 20s 14ms/step - loss: 3.8519 - accuracy: 0.2584\n",
            "Epoch 20/100\n",
            "1480/1480 [==============================] - 20s 14ms/step - loss: 3.7986 - accuracy: 0.2627\n",
            "Epoch 21/100\n",
            "1480/1480 [==============================] - 20s 14ms/step - loss: 3.7483 - accuracy: 0.2690\n",
            "Epoch 22/100\n",
            "1480/1480 [==============================] - 20s 14ms/step - loss: 3.6989 - accuracy: 0.2764\n",
            "Epoch 23/100\n",
            "1480/1480 [==============================] - 20s 14ms/step - loss: 3.6532 - accuracy: 0.2825\n",
            "Epoch 24/100\n",
            "1480/1480 [==============================] - 20s 14ms/step - loss: 3.6213 - accuracy: 0.2859\n",
            "Epoch 25/100\n",
            "1480/1480 [==============================] - 20s 14ms/step - loss: 3.5700 - accuracy: 0.2938\n",
            "Epoch 26/100\n",
            "1480/1480 [==============================] - 20s 14ms/step - loss: 3.5357 - accuracy: 0.2984\n",
            "Epoch 27/100\n",
            "1480/1480 [==============================] - 20s 14ms/step - loss: 3.4921 - accuracy: 0.3058\n",
            "Epoch 28/100\n",
            "1480/1480 [==============================] - 20s 14ms/step - loss: 3.4538 - accuracy: 0.3096\n",
            "Epoch 29/100\n",
            "1480/1480 [==============================] - 20s 14ms/step - loss: 3.4184 - accuracy: 0.3160\n",
            "Epoch 30/100\n",
            "1480/1480 [==============================] - 20s 14ms/step - loss: 3.3877 - accuracy: 0.3185\n",
            "Epoch 31/100\n",
            "1480/1480 [==============================] - 20s 14ms/step - loss: 3.3540 - accuracy: 0.3252\n",
            "Epoch 32/100\n",
            "1480/1480 [==============================] - 20s 14ms/step - loss: 3.3195 - accuracy: 0.3308\n",
            "Epoch 33/100\n",
            "1480/1480 [==============================] - 20s 14ms/step - loss: 3.2894 - accuracy: 0.3345\n",
            "Epoch 34/100\n",
            "1480/1480 [==============================] - 20s 14ms/step - loss: 3.2582 - accuracy: 0.3401\n",
            "Epoch 35/100\n",
            "1480/1480 [==============================] - 20s 14ms/step - loss: 3.2291 - accuracy: 0.3444\n",
            "Epoch 36/100\n",
            "1480/1480 [==============================] - 20s 14ms/step - loss: 3.2000 - accuracy: 0.3481\n",
            "Epoch 37/100\n",
            "1480/1480 [==============================] - 20s 14ms/step - loss: 3.1705 - accuracy: 0.3527\n",
            "Epoch 38/100\n",
            "1480/1480 [==============================] - 20s 14ms/step - loss: 3.1502 - accuracy: 0.3562\n",
            "Epoch 39/100\n",
            "1480/1480 [==============================] - 20s 14ms/step - loss: 3.1218 - accuracy: 0.3601\n",
            "Epoch 40/100\n",
            "1480/1480 [==============================] - 20s 14ms/step - loss: 3.0956 - accuracy: 0.3645\n",
            "Epoch 41/100\n",
            "1480/1480 [==============================] - 20s 14ms/step - loss: 3.0765 - accuracy: 0.3664\n",
            "Epoch 42/100\n",
            "1480/1480 [==============================] - 20s 14ms/step - loss: 3.0511 - accuracy: 0.3715\n",
            "Epoch 43/100\n",
            "1480/1480 [==============================] - 20s 14ms/step - loss: 3.0283 - accuracy: 0.3755\n",
            "Epoch 44/100\n",
            "1480/1480 [==============================] - 20s 14ms/step - loss: 3.0111 - accuracy: 0.3784\n",
            "Epoch 45/100\n",
            "1480/1480 [==============================] - 20s 14ms/step - loss: 2.9930 - accuracy: 0.3802\n",
            "Epoch 46/100\n",
            "1480/1480 [==============================] - 20s 14ms/step - loss: 2.9729 - accuracy: 0.3837\n",
            "Epoch 47/100\n",
            "1480/1480 [==============================] - 20s 14ms/step - loss: 2.9517 - accuracy: 0.3872\n",
            "Epoch 48/100\n",
            "1480/1480 [==============================] - 20s 14ms/step - loss: 2.9337 - accuracy: 0.3907\n",
            "Epoch 49/100\n",
            "1480/1480 [==============================] - 20s 14ms/step - loss: 2.9201 - accuracy: 0.3921\n",
            "Epoch 50/100\n",
            "1480/1480 [==============================] - 20s 14ms/step - loss: 2.9101 - accuracy: 0.3934\n",
            "Epoch 51/100\n",
            "1480/1480 [==============================] - 20s 14ms/step - loss: 2.8827 - accuracy: 0.3979\n",
            "Epoch 52/100\n",
            "1480/1480 [==============================] - 20s 14ms/step - loss: 2.8630 - accuracy: 0.4004\n",
            "Epoch 53/100\n",
            "1480/1480 [==============================] - 20s 14ms/step - loss: 2.8495 - accuracy: 0.4042\n",
            "Epoch 54/100\n",
            "1480/1480 [==============================] - 20s 14ms/step - loss: 2.8372 - accuracy: 0.4058\n",
            "Epoch 55/100\n",
            "1480/1480 [==============================] - 20s 14ms/step - loss: 2.8259 - accuracy: 0.4078\n",
            "Epoch 56/100\n",
            "1480/1480 [==============================] - 20s 14ms/step - loss: 2.7982 - accuracy: 0.4139\n",
            "Epoch 57/100\n",
            "1480/1480 [==============================] - 20s 14ms/step - loss: 2.7835 - accuracy: 0.4157\n",
            "Epoch 58/100\n",
            "1480/1480 [==============================] - 20s 14ms/step - loss: 2.7718 - accuracy: 0.4189\n",
            "Epoch 59/100\n",
            "1480/1480 [==============================] - 20s 14ms/step - loss: 2.7617 - accuracy: 0.4211\n",
            "Epoch 60/100\n",
            "1480/1480 [==============================] - 20s 14ms/step - loss: 2.7447 - accuracy: 0.4238\n",
            "Epoch 61/100\n",
            "1480/1480 [==============================] - 20s 14ms/step - loss: 2.7292 - accuracy: 0.4256\n",
            "Epoch 62/100\n",
            "1480/1480 [==============================] - 20s 14ms/step - loss: 2.7125 - accuracy: 0.4291\n",
            "Epoch 63/100\n",
            "1480/1480 [==============================] - 20s 14ms/step - loss: 2.7096 - accuracy: 0.4307\n",
            "Epoch 64/100\n",
            "1480/1480 [==============================] - 20s 14ms/step - loss: 2.6951 - accuracy: 0.4312\n",
            "Epoch 65/100\n",
            "1480/1480 [==============================] - 20s 14ms/step - loss: 2.6813 - accuracy: 0.4346\n",
            "Epoch 66/100\n",
            "1480/1480 [==============================] - 20s 14ms/step - loss: 2.6678 - accuracy: 0.4369\n",
            "Epoch 67/100\n",
            "1480/1480 [==============================] - 20s 14ms/step - loss: 2.6563 - accuracy: 0.4394\n",
            "Epoch 68/100\n",
            "1480/1480 [==============================] - 20s 14ms/step - loss: 2.6469 - accuracy: 0.4411\n",
            "Epoch 69/100\n",
            "1480/1480 [==============================] - 20s 14ms/step - loss: 2.6292 - accuracy: 0.4448\n",
            "Epoch 70/100\n",
            "1480/1480 [==============================] - 20s 14ms/step - loss: 2.6248 - accuracy: 0.4436\n",
            "Epoch 71/100\n",
            "1480/1480 [==============================] - 20s 14ms/step - loss: 2.6068 - accuracy: 0.4475\n",
            "Epoch 72/100\n",
            "1480/1480 [==============================] - 20s 14ms/step - loss: 2.5961 - accuracy: 0.4488\n",
            "Epoch 73/100\n",
            "1480/1480 [==============================] - 20s 14ms/step - loss: 2.5936 - accuracy: 0.4502\n",
            "Epoch 74/100\n",
            "1480/1480 [==============================] - 20s 14ms/step - loss: 2.5762 - accuracy: 0.4531\n",
            "Epoch 75/100\n",
            "1480/1480 [==============================] - 20s 14ms/step - loss: 2.5635 - accuracy: 0.4549\n",
            "Epoch 76/100\n",
            "1480/1480 [==============================] - 20s 14ms/step - loss: 2.5577 - accuracy: 0.4556\n",
            "Epoch 77/100\n",
            "1480/1480 [==============================] - 20s 14ms/step - loss: 2.5578 - accuracy: 0.4549\n",
            "Epoch 78/100\n",
            "1480/1480 [==============================] - 20s 14ms/step - loss: 2.5440 - accuracy: 0.4590\n",
            "Epoch 79/100\n",
            "1480/1480 [==============================] - 20s 14ms/step - loss: 2.5445 - accuracy: 0.4572\n",
            "Epoch 80/100\n",
            "1480/1480 [==============================] - 20s 14ms/step - loss: 2.5252 - accuracy: 0.4636\n",
            "Epoch 81/100\n",
            "1480/1480 [==============================] - 20s 14ms/step - loss: 2.5084 - accuracy: 0.4640\n",
            "Epoch 82/100\n",
            "1480/1480 [==============================] - 20s 14ms/step - loss: 2.5009 - accuracy: 0.4657\n",
            "Epoch 83/100\n",
            "1480/1480 [==============================] - 20s 14ms/step - loss: 2.5032 - accuracy: 0.4674\n",
            "Epoch 84/100\n",
            "1480/1480 [==============================] - 20s 14ms/step - loss: 2.4795 - accuracy: 0.4713\n",
            "Epoch 85/100\n",
            "1480/1480 [==============================] - 20s 14ms/step - loss: 2.4746 - accuracy: 0.4716\n",
            "Epoch 86/100\n",
            "1480/1480 [==============================] - 20s 14ms/step - loss: 2.4715 - accuracy: 0.4713\n",
            "Epoch 87/100\n",
            "1480/1480 [==============================] - 20s 14ms/step - loss: 2.4615 - accuracy: 0.4726\n",
            "Epoch 88/100\n",
            "1480/1480 [==============================] - 20s 14ms/step - loss: 2.4551 - accuracy: 0.4753\n",
            "Epoch 89/100\n",
            "1480/1480 [==============================] - 20s 14ms/step - loss: 2.4394 - accuracy: 0.4775\n",
            "Epoch 90/100\n",
            "1480/1480 [==============================] - 20s 14ms/step - loss: 2.4489 - accuracy: 0.4748\n",
            "Epoch 91/100\n",
            "1480/1480 [==============================] - 20s 14ms/step - loss: 2.4320 - accuracy: 0.4797\n",
            "Epoch 92/100\n",
            "1480/1480 [==============================] - 20s 14ms/step - loss: 2.4109 - accuracy: 0.4830\n",
            "Epoch 93/100\n",
            "1480/1480 [==============================] - 20s 14ms/step - loss: 2.4102 - accuracy: 0.4814\n",
            "Epoch 94/100\n",
            "1480/1480 [==============================] - 20s 14ms/step - loss: 2.4159 - accuracy: 0.4815\n",
            "Epoch 95/100\n",
            "1480/1480 [==============================] - 20s 14ms/step - loss: 2.3915 - accuracy: 0.4876\n",
            "Epoch 96/100\n",
            "1480/1480 [==============================] - 20s 14ms/step - loss: 2.3838 - accuracy: 0.4881\n",
            "Epoch 97/100\n",
            "1480/1480 [==============================] - 20s 14ms/step - loss: 2.3742 - accuracy: 0.4904\n",
            "Epoch 98/100\n",
            "1480/1480 [==============================] - 20s 14ms/step - loss: 2.3753 - accuracy: 0.4876\n",
            "Epoch 99/100\n",
            "1480/1480 [==============================] - 20s 14ms/step - loss: 2.3733 - accuracy: 0.4892\n",
            "Epoch 100/100\n",
            "1480/1480 [==============================] - 20s 14ms/step - loss: 2.3591 - accuracy: 0.4920\n"
          ]
        }
      ],
      "source": [
        "from tensorflow.keras.models import Sequential\n",
        "from tensorflow.keras.layers import Embedding, LSTM, Dense, Bidirectional\n",
        "\n",
        "model = Sequential()\n",
        "model.add(Embedding(total_words, 64, input_length=max_sequence_len-1))\n",
        "model.add(Bidirectional(LSTM(20)))\n",
        "model.add(Dense(total_words, activation='softmax'))\n",
        "model.compile(loss='categorical_crossentropy', optimizer='adam', metrics=['accuracy'])\n",
        "history = model.fit(input_sequences, one_hot_labels, epochs=100, verbose=1)"
      ]
    },
    {
      "cell_type": "markdown",
      "metadata": {
        "id": "MgvIz20nlQcq"
      },
      "source": [
        "### View the Training Graph"
      ]
    },
    {
      "cell_type": "code",
      "execution_count": 8,
      "metadata": {
        "id": "rOqmmarvlSLh",
        "outputId": "29ac33fe-ee2c-4416-be82-e920edc29cc4",
        "colab": {
          "base_uri": "https://localhost:8080/",
          "height": 388
        }
      },
      "outputs": [
        {
          "output_type": "display_data",
          "data": {
            "text/plain": [
              "<Figure size 720x432 with 1 Axes>"
            ],
            "image/png": "[encoded data removed]"
          },
          "metadata": {
            "needs_background": "light"
          }
        }
      ],
      "source": [
        "import matplotlib.pyplot as plt\n",
        "\n",
        "def plot_graphs(history, string):\n",
        "  plt.figure(figsize=(10,6))\n",
        "  plt.plot(history.history[string])\n",
        "  plt.xlabel(\"Epochs\")\n",
        "  plt.ylabel(string)\n",
        "  plt.show()\n",
        "\n",
        "plot_graphs(history, 'accuracy')"
      ]
    },
    {
      "cell_type": "markdown",
      "metadata": {
        "id": "ISLZZGlQlSxh"
      },
      "source": [
        "### Generate better lyrics!\n",
        "\n",
        "This time around, we should be able to get a more interesting output with less repetition."
      ]
    },
    {
      "cell_type": "code",
      "execution_count": 9,
      "metadata": {
        "id": "P96oVMk3lU7y",
        "outputId": "dc90ec0c-f65e-4a52-fbfc-dc1626cac178",
        "colab": {
          "base_uri": "https://localhost:8080/"
        }
      },
      "outputs": [
        {
          "output_type": "stream",
          "name": "stdout",
          "text": [
            "im feeling chills fun and it seems to blame to me and make me so hard to do it all here day we can jive having the other day comin like and i kissed the other jet black flu of beyond falling dull rides rides everythings rides rides everythings rides rides stayed treat realize las tells bell depressed chuck bless mr dying into healing moods bends now its going to me and get everyday babe by their inside the world inside day we play the floor up to the office yeah wont the little heart that shove on me on fire gently of\n"
          ]
        }
      ],
      "source": [
        "seed_text = \"im feeling chills\"\n",
        "next_words = 100\n",
        "  \n",
        "for _ in range(next_words):\n",
        "\ttoken_list = tokenizer.texts_to_sequences([seed_text])[0]\n",
        "\ttoken_list = pad_sequences([token_list], maxlen=max_sequence_len-1, padding='pre')\n",
        "\tpredicted = np.argmax(model.predict(token_list), axis=-1)\n",
        "\toutput_word = \"\"\n",
        "\tfor word, index in tokenizer.word_index.items():\n",
        "\t\tif index == predicted:\n",
        "\t\t\toutput_word = word\n",
        "\t\t\tbreak\n",
        "\tseed_text += \" \" + output_word\n",
        "print(seed_text)"
      ]
    },
    {
      "cell_type": "markdown",
      "metadata": {
        "id": "upgJKV8_oRU9"
      },
      "source": [
        "### Varying the Possible Outputs\n",
        "\n",
        "In running the above, you may notice that the same seed text will generate similar outputs. This is because the code is currently always choosing the top predicted class as the next word. What if you wanted more variance in the output? \n",
        "\n",
        "Switching from `model.predict_classes` to `model.predict_proba` will get us all of the class probabilities. We can combine this with `np.random.choice` to select a given predicted output based on a probability, thereby giving a bit more randomness to our outputs."
      ]
    },
    {
      "cell_type": "code",
      "execution_count": 10,
      "metadata": {
        "id": "lZe9gaJeoGVP",
        "outputId": "47fadbcc-ca1b-4fd0-ece9-cab81983ab1a",
        "colab": {
          "base_uri": "https://localhost:8080/"
        }
      },
      "outputs": [
        {
          "output_type": "stream",
          "name": "stdout",
          "text": [
            "1\n"
          ]
        }
      ],
      "source": [
        "# Test the method with just the first word after the seed text\n",
        "seed_text = \"im feeling chills\"\n",
        "next_words = 100\n",
        "  \n",
        "token_list = tokenizer.texts_to_sequences([seed_text])[0]\n",
        "token_list = pad_sequences([token_list], maxlen=max_sequence_len-1, padding='pre')\n",
        "predicted_probs = model.predict(token_list)[0]\n",
        "predicted = np.random.choice([x for x in range(len(predicted_probs))], \n",
        "                             p=predicted_probs)\n",
        "# Running this cell multiple times should get you some variance in output\n",
        "print(predicted)"
      ]
    },
    {
      "cell_type": "code",
      "execution_count": 11,
      "metadata": {
        "id": "ee7WKgRGrJy1",
        "outputId": "49091cdf-1af2-4dd8-a097-542cfc56359d",
        "colab": {
          "base_uri": "https://localhost:8080/"
        }
      },
      "outputs": [
        {
          "output_type": "stream",
          "name": "stdout",
          "text": [
            "im feeling chills love of sweet mama said yes i i think it own ahha ahha ahha ahha ahha ahha ahha is no more shy shame care no kisses track give last prolonged goodbye meets in space rides lordy gone two guys that plans two rides rides everythings ago everythings night seventeen goodnight needs jump back figure for ive been pride fire going music fly can seem learned life to be so hard awhile to the wild rides rides ohalalala surrender waited heart and let the in side rocking would take darling hard lovelight lots to be that of dead glow and i\n"
          ]
        }
      ],
      "source": [
        "# Use this process for the full output generation\n",
        "seed_text = \"im feeling chills\"\n",
        "next_words = 100\n",
        "  \n",
        "for _ in range(next_words):\n",
        "  token_list = tokenizer.texts_to_sequences([seed_text])[0]\n",
        "  token_list = pad_sequences([token_list], maxlen=max_sequence_len-1, padding='pre')\n",
        "  predicted_probs = model.predict(token_list)[0]\n",
        "  predicted = np.random.choice([x for x in range(len(predicted_probs))],\n",
        "                               p=predicted_probs)\n",
        "  output_word = \"\"\n",
        "  for word, index in tokenizer.word_index.items():\n",
        "    if index == predicted:\n",
        "      output_word = word\n",
        "      break\n",
        "  seed_text += \" \" + output_word\n",
        "print(seed_text)"
      ]
    }
  ],
  "metadata": {
    "accelerator": "GPU",
    "colab": {
      "collapsed_sections": [],
      "name": "l10c04_nlp_optimizing_the_text_generation_model.ipynb",
      "provenance": []
    },
    "kernelspec": {
      "display_name": "Python 3",
      "name": "python3"
    }
  },
  "nbformat": 4,
  "nbformat_minor": 0
}