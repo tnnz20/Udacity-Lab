{
  "cells": [
    {
      "cell_type": "markdown",
      "metadata": {
        "id": "4PXIAiSWpVY5"
      },
      "source": [
        "# Character-Level LSTM in PyTorch\n",
        "\n",
        "In this notebook, I'll construct a character-level LSTM with PyTorch. The network will train character by character on some text, then generate new text character by character. As an example, I will train on Anna Karenina. **This model will be able to generate new text based on the text from the book!**\n",
        "\n",
        "This network is based off of Andrej Karpathy's [post on RNNs](http://karpathy.github.io/2015/05/21/rnn-effectiveness/) and [implementation in Torch](https://github.com/karpathy/char-rnn). Below is the general architecture of the character-wise RNN.\n",
        "\n",
        "<img src=\"assets/charseq.jpeg\" width=\"500\">"
      ]
    },
    {
      "cell_type": "markdown",
      "metadata": {
        "id": "ShL7k56JpVZT"
      },
      "source": [
        "First let's load in our required resources for data loading and model creation."
      ]
    },
    {
      "cell_type": "code",
      "execution_count": 5,
      "metadata": {
        "collapsed": true,
        "id": "-TUT5R4CpVZU"
      },
      "outputs": [],
      "source": [
        "import numpy as np\n",
        "import torch\n",
        "from torch import nn\n",
        "import torch.nn.functional as F"
      ]
    },
    {
      "cell_type": "markdown",
      "metadata": {
        "id": "i-cis2njpVZW"
      },
      "source": [
        "## Load in Data\n",
        "\n",
        "Then, we'll load the Anna Karenina text file and convert it into integers for our network to use. "
      ]
    },
    {
      "cell_type": "code",
      "execution_count": 6,
      "metadata": {
        "collapsed": true,
        "id": "0E7RzmalpVZX"
      },
      "outputs": [],
      "source": [
        "# open text file and read in data as `text`\n",
        "with open('data/anna.txt', 'r') as f:\n",
        "    text = f.read()"
      ]
    },
    {
      "cell_type": "markdown",
      "metadata": {
        "id": "cmxbmMAZpVZY"
      },
      "source": [
        "Let's check out the first 100 characters, make sure everything is peachy. According to the [American Book Review](http://americanbookreview.org/100bestlines.asp), this is the 6th best first line of a book ever."
      ]
    },
    {
      "cell_type": "code",
      "execution_count": 7,
      "metadata": {
        "collapsed": true,
        "colab": {
          "base_uri": "https://localhost:8080/",
          "height": 35
        },
        "id": "02ULSDxfpVZY",
        "outputId": "c6c681e8-9744-433c-bfe0-e791d6f00d26"
      },
      "outputs": [
        {
          "output_type": "execute_result",
          "data": {
            "text/plain": [
              "'Chapter 1\\n\\n\\nHappy families are all alike; every unhappy family is unhappy in its own\\nway.\\n\\nEverythin'"
            ],
            "application/vnd.google.colaboratory.intrinsic+json": {
              "type": "string"
            }
          },
          "metadata": {},
          "execution_count": 7
        }
      ],
      "source": [
        "text[:100]"
      ]
    },
    {
      "cell_type": "markdown",
      "metadata": {
        "id": "vvOowLSepVZb"
      },
      "source": [
        "### Tokenization\n",
        "\n",
        "In the cells, below, I'm creating a couple of **dictionaries** to convert the characters to and from integers. Encoding the characters as integers makes it easier to use as input in the network."
      ]
    },
    {
      "cell_type": "code",
      "execution_count": 8,
      "metadata": {
        "collapsed": true,
        "id": "embQJIJ7pVZb"
      },
      "outputs": [],
      "source": [
        "# encode the text and map each character to an integer and vice versa\n",
        "\n",
        "# we create two dictionaries:\n",
        "# 1. int2char, which maps integers to characters\n",
        "# 2. char2int, which maps characters to unique integers\n",
        "chars = tuple(set(text))\n",
        "int2char = dict(enumerate(chars))\n",
        "char2int = {ch: ii for ii, ch in int2char.items()}\n",
        "\n",
        "# encode the text\n",
        "encoded = np.array([char2int[ch] for ch in text])"
      ]
    },
    {
      "cell_type": "markdown",
      "metadata": {
        "id": "k7WxesuCpVZc"
      },
      "source": [
        "And we can see those same characters from above, encoded as integers."
      ]
    },
    {
      "cell_type": "code",
      "execution_count": 9,
      "metadata": {
        "collapsed": true,
        "colab": {
          "base_uri": "https://localhost:8080/"
        },
        "id": "0o7aJZmBpVZd",
        "outputId": "690e36e6-8867-4bc7-fce1-e26e91f08392"
      },
      "outputs": [
        {
          "output_type": "execute_result",
          "data": {
            "text/plain": [
              "array([36, 43, 55,  2, 51, 82,  9, 10, 37,  7,  7,  7, 73, 55,  2,  2, 75,\n",
              "       10, 23, 55, 70, 53, 16, 53, 82, 32, 10, 55,  9, 82, 10, 55, 16, 16,\n",
              "       10, 55, 16, 53, 29, 82, 17, 10, 82, 19, 82,  9, 75, 10, 74, 66, 43,\n",
              "       55,  2,  2, 75, 10, 23, 55, 70, 53, 16, 75, 10, 53, 32, 10, 74, 66,\n",
              "       43, 55,  2,  2, 75, 10, 53, 66, 10, 53, 51, 32, 10, 47, 48, 66,  7,\n",
              "       48, 55, 75,  5,  7,  7, 69, 19, 82,  9, 75, 51, 43, 53, 66])"
            ]
          },
          "metadata": {},
          "execution_count": 9
        }
      ],
      "source": [
        "encoded[:100]"
      ]
    },
    {
      "cell_type": "markdown",
      "metadata": {
        "id": "nshFO9ZqpVZe"
      },
      "source": [
        "## Pre-processing the data\n",
        "\n",
        "As you can see in our char-RNN image above, our LSTM expects an input that is **one-hot encoded** meaning that each character is converted into an integer (via our created dictionary) and *then* converted into a column vector where only it's corresponding integer index will have the value of 1 and the rest of the vector will be filled with 0's. Since we're one-hot encoding the data, let's make a function to do that!\n"
      ]
    },
    {
      "cell_type": "code",
      "execution_count": 10,
      "metadata": {
        "collapsed": true,
        "id": "NFZARQQYpVZe"
      },
      "outputs": [],
      "source": [
        "def one_hot_encode(arr, n_labels):\n",
        "    \n",
        "    # Initialize the encoded array\n",
        "    one_hot = np.zeros((arr.size, n_labels), dtype=np.float32)\n",
        "    \n",
        "    # Fill the appropriate elements with ones\n",
        "    one_hot[np.arange(one_hot.shape[0]), arr.flatten()] = 1.\n",
        "    \n",
        "    # Finally reshape it to get back to the original array\n",
        "    one_hot = one_hot.reshape((*arr.shape, n_labels))\n",
        "    \n",
        "    return one_hot"
      ]
    },
    {
      "cell_type": "code",
      "execution_count": 11,
      "metadata": {
        "collapsed": true,
        "colab": {
          "base_uri": "https://localhost:8080/"
        },
        "id": "76nZwRDIpVZg",
        "outputId": "5cdb042a-c5e2-4ff5-9064-7808c01a1ed3"
      },
      "outputs": [
        {
          "output_type": "stream",
          "name": "stdout",
          "text": [
            "[[[0. 0. 0. 1. 0. 0. 0. 0.]\n",
            "  [0. 0. 0. 0. 0. 1. 0. 0.]\n",
            "  [0. 1. 0. 0. 0. 0. 0. 0.]]]\n"
          ]
        }
      ],
      "source": [
        "# check that the function works as expected\n",
        "test_seq = np.array([[3, 5, 1]])\n",
        "one_hot = one_hot_encode(test_seq, 8)\n",
        "\n",
        "print(one_hot)"
      ]
    },
    {
      "cell_type": "markdown",
      "metadata": {
        "id": "a1MOpzxBpVZg"
      },
      "source": [
        "## Making training mini-batches\n",
        "\n",
        "\n",
        "To train on this data, we also want to create mini-batches for training. Remember that we want our batches to be multiple sequences of some desired number of sequence steps. Considering a simple example, our batches would look like this:\n",
        "\n",
        "<img src=\"assets/sequence_batching@1x.png\" width=500px>\n",
        "\n",
        "\n",
        "<br>\n",
        "\n",
        "In this example, we'll take the encoded characters (passed in as the `arr` parameter) and split them into multiple sequences, given by `batch_size`. Each of our sequences will be `seq_length` long.\n",
        "\n",
        "### Creating Batches\n",
        "\n",
        "**1. The first thing we need to do is discard some of the text so we only have completely full mini-batches. **\n",
        "\n",
        "Each batch contains $N \\times M$ characters, where $N$ is the batch size (the number of sequences in a batch) and $M$ is the seq_length or number of time steps in a sequence. Then, to get the total number of batches, $K$, that we can make from the array `arr`, you divide the length of `arr` by the number of characters per batch. Once you know the number of batches, you can get the total number of characters to keep from `arr`, $N * M * K$.\n",
        "\n",
        "**2. After that, we need to split `arr` into $N$ batches. ** \n",
        "\n",
        "You can do this using `arr.reshape(size)` where `size` is a tuple containing the dimensions sizes of the reshaped array. We know we want $N$ sequences in a batch, so let's make that the size of the first dimension. For the second dimension, you can use `-1` as a placeholder in the size, it'll fill up the array with the appropriate data for you. After this, you should have an array that is $N \\times (M * K)$.\n",
        "\n",
        "**3. Now that we have this array, we can iterate through it to get our mini-batches. **\n",
        "\n",
        "The idea is each batch is a $N \\times M$ window on the $N \\times (M * K)$ array. For each subsequent batch, the window moves over by `seq_length`. We also want to create both the input and target arrays. Remember that the targets are just the inputs shifted over by one character. The way I like to do this window is use `range` to take steps of size `n_steps` from $0$ to `arr.shape[1]`, the total number of tokens in each sequence. That way, the integers you get from `range` always point to the start of a batch, and each window is `seq_length` wide.\n",
        "\n",
        "> **TODO:** Write the code for creating batches in the function below. The exercises in this notebook _will not be easy_. I've provided a notebook with solutions alongside this notebook. If you get stuck, checkout the solutions. The most important thing is that you don't copy and paste the code into here, **type out the solution code yourself.**"
      ]
    },
    {
      "cell_type": "code",
      "execution_count": 12,
      "metadata": {
        "collapsed": true,
        "id": "Uu7k4t86pVZj"
      },
      "outputs": [],
      "source": [
        "def get_batches(arr, batch_size, seq_length):\n",
        "    '''Create a generator that returns batches of size\n",
        "       batch_size x seq_length from arr.\n",
        "       \n",
        "       Arguments\n",
        "       ---------\n",
        "       arr: Array you want to make batches from\n",
        "       batch_size: Batch size, the number of sequences per batch\n",
        "       seq_length: Number of encoded chars in a sequence\n",
        "    '''\n",
        "    \n",
        "    ## TODO: Get the number of batches we can make\n",
        "    batch_size_total = batch_size * seq_length\n",
        "    n_batches = len(arr)// batch_size_total\n",
        "    \n",
        "    ## TODO: Keep only enough characters to make full batches\n",
        "    arr = arr[:n_batches * batch_size_total]\n",
        "    \n",
        "    ## TODO: Reshape into batch_size rows\n",
        "    arr = arr.reshape((batch_size, -1))\n",
        "    \n",
        "    ## TODO: Iterate over the batches using a window of size seq_length\n",
        "    for n in range(0, arr.shape[1], seq_length):\n",
        "        # The features\n",
        "        x = arr[:, n:n+seq_length]\n",
        "        # The targets, shifted by one\n",
        "        y = np.zeros_like(x)\n",
        "        try:\n",
        "            y[:, :-1], y[:, -1] = x[:, 1:], arr[:, n+seq_length]\n",
        "        except IndexError:\n",
        "            y[:, :-1], y[:, -1] = x[:, 1:], arr[:, 0]\n",
        "        yield x, y"
      ]
    },
    {
      "cell_type": "markdown",
      "metadata": {
        "id": "oDM6X8BcpVZl"
      },
      "source": [
        "### Test Your Implementation\n",
        "\n",
        "Now I'll make some data sets and we can check out what's going on as we batch data. Here, as an example, I'm going to use a batch size of 8 and 50 sequence steps."
      ]
    },
    {
      "cell_type": "code",
      "execution_count": 13,
      "metadata": {
        "collapsed": true,
        "id": "FVPUvK_IpVZm"
      },
      "outputs": [],
      "source": [
        "batches = get_batches(encoded, 8, 50)\n",
        "x, y = next(batches)"
      ]
    },
    {
      "cell_type": "code",
      "execution_count": 14,
      "metadata": {
        "collapsed": true,
        "colab": {
          "base_uri": "https://localhost:8080/"
        },
        "id": "fTdGHDompVZm",
        "outputId": "d9d3de1f-1f16-4a9d-e436-cb47050c9406"
      },
      "outputs": [
        {
          "output_type": "stream",
          "name": "stdout",
          "text": [
            "x\n",
            " [[36 43 55  2 51 82  9 10 37  7]\n",
            " [32 47 66 10 51 43 55 51 10 55]\n",
            " [82 66 34 10 47  9 10 55 10 23]\n",
            " [32 10 51 43 82 10 25 43 53 82]\n",
            " [10 32 55 48 10 43 82  9 10 51]\n",
            " [25 74 32 32 53 47 66 10 55 66]\n",
            " [10 56 66 66 55 10 43 55 34 10]\n",
            " [45 39 16 47 66 32 29 75  5 10]]\n",
            "\n",
            "y\n",
            " [[43 55  2 51 82  9 10 37  7  7]\n",
            " [47 66 10 51 43 55 51 10 55 51]\n",
            " [66 34 10 47  9 10 55 10 23 47]\n",
            " [10 51 43 82 10 25 43 53 82 23]\n",
            " [32 55 48 10 43 82  9 10 51 82]\n",
            " [74 32 32 53 47 66 10 55 66 34]\n",
            " [56 66 66 55 10 43 55 34 10 32]\n",
            " [39 16 47 66 32 29 75  5 10 50]]\n"
          ]
        }
      ],
      "source": [
        "# printing out the first 10 items in a sequence\n",
        "print('x\\n', x[:10, :10])\n",
        "print('\\ny\\n', y[:10, :10])"
      ]
    },
    {
      "cell_type": "markdown",
      "metadata": {
        "id": "nDdOOAHppVZn"
      },
      "source": [
        "If you implemented `get_batches` correctly, the above output should look something like \n",
        "```\n",
        "x\n",
        " [[25  8 60 11 45 27 28 73  1  2]\n",
        " [17  7 20 73 45  8 60 45 73 60]\n",
        " [27 20 80 73  7 28 73 60 73 65]\n",
        " [17 73 45  8 27 73 66  8 46 27]\n",
        " [73 17 60 12 73  8 27 28 73 45]\n",
        " [66 64 17 17 46  7 20 73 60 20]\n",
        " [73 76 20 20 60 73  8 60 80 73]\n",
        " [47 35 43  7 20 17 24 50 37 73]]\n",
        "\n",
        "y\n",
        " [[ 8 60 11 45 27 28 73  1  2  2]\n",
        " [ 7 20 73 45  8 60 45 73 60 45]\n",
        " [20 80 73  7 28 73 60 73 65  7]\n",
        " [73 45  8 27 73 66  8 46 27 65]\n",
        " [17 60 12 73  8 27 28 73 45 27]\n",
        " [64 17 17 46  7 20 73 60 20 80]\n",
        " [76 20 20 60 73  8 60 80 73 17]\n",
        " [35 43  7 20 17 24 50 37 73 36]]\n",
        " ```\n",
        " although the exact numbers may be different. Check to make sure the data is shifted over one step for `y`."
      ]
    },
    {
      "cell_type": "markdown",
      "metadata": {
        "id": "XM8h1rcrpVZo"
      },
      "source": [
        "---\n",
        "## Defining the network with PyTorch\n",
        "\n",
        "Below is where you'll define the network.\n",
        "\n",
        "<img src=\"assets/charRNN.png\" width=500px>\n",
        "\n",
        "Next, you'll use PyTorch to define the architecture of the network. We start by defining the layers and operations we want. Then, define a method for the forward pass. You've also been given a method for predicting characters."
      ]
    },
    {
      "cell_type": "markdown",
      "metadata": {
        "id": "40bV3ScxpVZo"
      },
      "source": [
        "### Model Structure\n",
        "\n",
        "In `__init__` the suggested structure is as follows:\n",
        "* Create and store the necessary dictionaries (this has been done for you)\n",
        "* Define an LSTM layer that takes as params: an input size (the number of characters), a hidden layer size `n_hidden`, a number of layers `n_layers`, a dropout probability `drop_prob`, and a batch_first boolean (True, since we are batching)\n",
        "* Define a dropout layer with `drop_prob`\n",
        "* Define a fully-connected layer with params: input size `n_hidden` and output size (the number of characters)\n",
        "* Finally, initialize the weights (again, this has been given)\n",
        "\n",
        "Note that some parameters have been named and given in the `__init__` function, and we use them and store them by doing something like `self.drop_prob = drop_prob`."
      ]
    },
    {
      "cell_type": "markdown",
      "metadata": {
        "id": "GPQSKlCIpVZp"
      },
      "source": [
        "---\n",
        "### LSTM Inputs/Outputs\n",
        "\n",
        "You can create a basic [LSTM layer](https://pytorch.org/docs/stable/nn.html#lstm) as follows\n",
        "\n",
        "```python\n",
        "self.lstm = nn.LSTM(input_size, n_hidden, n_layers, \n",
        "                            dropout=drop_prob, batch_first=True)\n",
        "```\n",
        "\n",
        "where `input_size` is the number of characters this cell expects to see as sequential input, and `n_hidden` is the number of units in the hidden layers in the cell. And we can add dropout by adding a dropout parameter with a specified probability; this will automatically add dropout to the inputs or outputs. Finally, in the `forward` function, we can stack up the LSTM cells into layers using `.view`. With this, you pass in a list of cells and it will send the output of one cell into the next cell.\n",
        "\n",
        "We also need to create an initial hidden state of all zeros. This is done like so\n",
        "\n",
        "```python\n",
        "self.init_hidden()\n",
        "```"
      ]
    },
    {
      "cell_type": "code",
      "execution_count": 15,
      "metadata": {
        "collapsed": true,
        "colab": {
          "base_uri": "https://localhost:8080/"
        },
        "id": "AVIZeq4PpVZq",
        "outputId": "60117b6b-8cab-4aab-8470-1fd7d70a38cc"
      },
      "outputs": [
        {
          "output_type": "stream",
          "name": "stdout",
          "text": [
            "Training on GPU!\n"
          ]
        }
      ],
      "source": [
        "# check if GPU is available\n",
        "train_on_gpu = torch.cuda.is_available()\n",
        "if(train_on_gpu):\n",
        "    print('Training on GPU!')\n",
        "else: \n",
        "    print('No GPU available, training on CPU; consider making n_epochs very small.')"
      ]
    },
    {
      "cell_type": "code",
      "execution_count": 16,
      "metadata": {
        "collapsed": true,
        "id": "L9Q7oy7upVZr"
      },
      "outputs": [],
      "source": [
        "class CharRNN(nn.Module):\n",
        "    \n",
        "    def __init__(self, tokens, n_hidden=256, n_layers=2,\n",
        "                               drop_prob=0.5, lr=0.001):\n",
        "        super().__init__()\n",
        "        self.drop_prob = drop_prob\n",
        "        self.n_layers = n_layers\n",
        "        self.n_hidden = n_hidden\n",
        "        self.lr = lr\n",
        "        \n",
        "        # creating character dictionaries\n",
        "        self.chars = tokens\n",
        "        self.int2char = dict(enumerate(self.chars))\n",
        "        self.char2int = {ch: ii for ii, ch in self.int2char.items()}\n",
        "        \n",
        "        ## TODO: define the LSTM\n",
        "        self.lstm = nn.LSTM(len(self.chars), n_hidden, n_layers, \n",
        "                            dropout=drop_prob, batch_first=True)\n",
        "        \n",
        "        ## TODO: define a dropout layer\n",
        "        self.dropout = nn.Dropout(drop_prob)\n",
        "        \n",
        "        ## TODO: define the final, fully-connected output layer\n",
        "        self.fc = nn.Linear(n_hidden, len(self.chars))\n",
        "      \n",
        "    \n",
        "    def forward(self, x, hidden):\n",
        "        ''' Forward pass through the network. \n",
        "            These inputs are x, and the hidden/cell state `hidden`. '''\n",
        "                \n",
        "        ## TODO: Get the outputs and the new hidden state from the lstm\n",
        "        r_output, hidden = self.lstm(x, hidden)\n",
        "        \n",
        "        ## TODO: pass through a dropout layer\n",
        "        out = self.dropout(r_output)\n",
        "        \n",
        "        # Stack up LSTM outputs using view\n",
        "        # you may need to use contiguous to reshape the output\n",
        "        out = out.contiguous().view(-1, self.n_hidden)\n",
        "        \n",
        "        ## TODO: put x through the fully-connected layer\n",
        "        out = self.fc(out)\n",
        "        \n",
        "        # return the final output and the hidden state\n",
        "        return out, hidden\n",
        "    \n",
        "    \n",
        "    def init_hidden(self, batch_size):\n",
        "        ''' Initializes hidden state '''\n",
        "        # Create two new tensors with sizes n_layers x batch_size x n_hidden,\n",
        "        # initialized to zero, for hidden state and cell state of LSTM\n",
        "        weight = next(self.parameters()).data\n",
        "        \n",
        "        if (train_on_gpu):\n",
        "            hidden = (weight.new(self.n_layers, batch_size, self.n_hidden).zero_().cuda(),\n",
        "                  weight.new(self.n_layers, batch_size, self.n_hidden).zero_().cuda())\n",
        "        else:\n",
        "            hidden = (weight.new(self.n_layers, batch_size, self.n_hidden).zero_(),\n",
        "                      weight.new(self.n_layers, batch_size, self.n_hidden).zero_())\n",
        "        \n",
        "        return hidden"
      ]
    },
    {
      "cell_type": "markdown",
      "metadata": {
        "id": "50fYNf7epVZs"
      },
      "source": [
        "## Time to train\n",
        "\n",
        "The train function gives us the ability to set the number of epochs, the learning rate, and other parameters.\n",
        "\n",
        "Below we're using an Adam optimizer and cross entropy loss since we are looking at character class scores as output. We calculate the loss and perform backpropagation, as usual!\n",
        "\n",
        "A couple of details about training: \n",
        ">* Within the batch loop, we detach the hidden state from its history; this time setting it equal to a new *tuple* variable because an LSTM has a hidden state that is a tuple of the hidden and cell states.\n",
        "* We use [`clip_grad_norm_`](https://pytorch.org/docs/stable/_modules/torch/nn/utils/clip_grad.html) to help prevent exploding gradients."
      ]
    },
    {
      "cell_type": "code",
      "execution_count": 17,
      "metadata": {
        "collapsed": true,
        "id": "oc0uMS6-pVZt"
      },
      "outputs": [],
      "source": [
        "def train(net, data, epochs=10, batch_size=10, seq_length=50, lr=0.001, clip=5, val_frac=0.1, print_every=10):\n",
        "    ''' Training a network \n",
        "    \n",
        "        Arguments\n",
        "        ---------\n",
        "        \n",
        "        net: CharRNN network\n",
        "        data: text data to train the network\n",
        "        epochs: Number of epochs to train\n",
        "        batch_size: Number of mini-sequences per mini-batch, aka batch size\n",
        "        seq_length: Number of character steps per mini-batch\n",
        "        lr: learning rate\n",
        "        clip: gradient clipping\n",
        "        val_frac: Fraction of data to hold out for validation\n",
        "        print_every: Number of steps for printing training and validation loss\n",
        "    \n",
        "    '''\n",
        "    net.train()\n",
        "    \n",
        "    opt = torch.optim.Adam(net.parameters(), lr=lr)\n",
        "    criterion = nn.CrossEntropyLoss()\n",
        "    \n",
        "    # create training and validation data\n",
        "    val_idx = int(len(data)*(1-val_frac))\n",
        "    data, val_data = data[:val_idx], data[val_idx:]\n",
        "    \n",
        "    if(train_on_gpu):\n",
        "        net.cuda()\n",
        "    \n",
        "    counter = 0\n",
        "    n_chars = len(net.chars)\n",
        "    for e in range(epochs):\n",
        "        # initialize hidden state\n",
        "        h = net.init_hidden(batch_size)\n",
        "        \n",
        "        for x, y in get_batches(data, batch_size, seq_length):\n",
        "            counter += 1\n",
        "            \n",
        "            # One-hot encode our data and make them Torch tensors\n",
        "            x = one_hot_encode(x, n_chars)\n",
        "            inputs, targets = torch.from_numpy(x), torch.from_numpy(y)\n",
        "            \n",
        "            if(train_on_gpu):\n",
        "                inputs, targets = inputs.cuda(), targets.cuda()\n",
        "\n",
        "            # Creating new variables for the hidden state, otherwise\n",
        "            # we'd backprop through the entire training history\n",
        "            h = tuple([each.data for each in h])\n",
        "\n",
        "            # zero accumulated gradients\n",
        "            net.zero_grad()\n",
        "            \n",
        "            # get the output from the model\n",
        "            output, h = net(inputs, h)\n",
        "            \n",
        "            # calculate the loss and perform backprop\n",
        "            loss = criterion(output, targets.view(batch_size*seq_length).long())\n",
        "            loss.backward()\n",
        "            # `clip_grad_norm` helps prevent the exploding gradient problem in RNNs / LSTMs.\n",
        "            nn.utils.clip_grad_norm_(net.parameters(), clip)\n",
        "            opt.step()\n",
        "            \n",
        "            # loss stats\n",
        "            if counter % print_every == 0:\n",
        "                # Get validation loss\n",
        "                val_h = net.init_hidden(batch_size)\n",
        "                val_losses = []\n",
        "                net.eval()\n",
        "                for x, y in get_batches(val_data, batch_size, seq_length):\n",
        "                    # One-hot encode our data and make them Torch tensors\n",
        "                    x = one_hot_encode(x, n_chars)\n",
        "                    x, y = torch.from_numpy(x), torch.from_numpy(y)\n",
        "                    \n",
        "                    # Creating new variables for the hidden state, otherwise\n",
        "                    # we'd backprop through the entire training history\n",
        "                    val_h = tuple([each.data for each in val_h])\n",
        "                    \n",
        "                    inputs, targets = x, y\n",
        "                    if(train_on_gpu):\n",
        "                        inputs, targets = inputs.cuda(), targets.cuda()\n",
        "\n",
        "                    output, val_h = net(inputs, val_h)\n",
        "                    val_loss = criterion(output, targets.view(batch_size*seq_length).long())\n",
        "                \n",
        "                    val_losses.append(val_loss.item())\n",
        "                \n",
        "                net.train() # reset to train mode after iterationg through validation data\n",
        "                \n",
        "                print(\"Epoch: {}/{}...\".format(e+1, epochs),\n",
        "                      \"Step: {}...\".format(counter),\n",
        "                      \"Loss: {:.4f}...\".format(loss.item()),\n",
        "                      \"Val Loss: {:.4f}\".format(np.mean(val_losses)))"
      ]
    },
    {
      "cell_type": "markdown",
      "metadata": {
        "id": "Vnn6C4AApVZv"
      },
      "source": [
        "## Instantiating the model\n",
        "\n",
        "Now we can actually train the network. First we'll create the network itself, with some given hyperparameters. Then, define the mini-batches sizes, and start training!"
      ]
    },
    {
      "cell_type": "code",
      "execution_count": 18,
      "metadata": {
        "collapsed": true,
        "colab": {
          "base_uri": "https://localhost:8080/"
        },
        "id": "zvAGnEa-pVZx",
        "outputId": "3d899e89-c667-4f10-98b8-b36a0aef278b"
      },
      "outputs": [
        {
          "output_type": "stream",
          "name": "stdout",
          "text": [
            "CharRNN(\n",
            "  (lstm): LSTM(83, 512, num_layers=2, batch_first=True, dropout=0.5)\n",
            "  (dropout): Dropout(p=0.5, inplace=False)\n",
            "  (fc): Linear(in_features=512, out_features=83, bias=True)\n",
            ")\n"
          ]
        }
      ],
      "source": [
        "## TODO: set your model hyperparameters\n",
        "# define and print the net\n",
        "n_hidden=512\n",
        "n_layers=2\n",
        "\n",
        "net = CharRNN(chars, n_hidden, n_layers)\n",
        "print(net)"
      ]
    },
    {
      "cell_type": "markdown",
      "metadata": {
        "id": "ZvWkuhWUpVZx"
      },
      "source": [
        "### Set your training hyperparameters!"
      ]
    },
    {
      "cell_type": "code",
      "execution_count": 19,
      "metadata": {
        "collapsed": true,
        "scrolled": true,
        "colab": {
          "base_uri": "https://localhost:8080/"
        },
        "id": "f_WOaAhzpVZy",
        "outputId": "2c86460c-dd78-4b3b-a993-d575e042fc63"
      },
      "outputs": [
        {
          "output_type": "stream",
          "name": "stdout",
          "text": [
            "Epoch: 1/20... Step: 10... Loss: 3.2784... Val Loss: 3.2115\n",
            "Epoch: 1/20... Step: 20... Loss: 3.1536... Val Loss: 3.1355\n",
            "Epoch: 1/20... Step: 30... Loss: 3.1420... Val Loss: 3.1241\n",
            "Epoch: 1/20... Step: 40... Loss: 3.1119... Val Loss: 3.1189\n",
            "Epoch: 1/20... Step: 50... Loss: 3.1433... Val Loss: 3.1167\n",
            "Epoch: 1/20... Step: 60... Loss: 3.1173... Val Loss: 3.1130\n",
            "Epoch: 1/20... Step: 70... Loss: 3.1025... Val Loss: 3.1069\n",
            "Epoch: 1/20... Step: 80... Loss: 3.1065... Val Loss: 3.0923\n",
            "Epoch: 1/20... Step: 90... Loss: 3.0790... Val Loss: 3.0571\n",
            "Epoch: 1/20... Step: 100... Loss: 2.9974... Val Loss: 2.9641\n",
            "Epoch: 1/20... Step: 110... Loss: 2.9344... Val Loss: 2.8831\n",
            "Epoch: 1/20... Step: 120... Loss: 2.7554... Val Loss: 2.7290\n",
            "Epoch: 1/20... Step: 130... Loss: 2.6842... Val Loss: 2.6360\n",
            "Epoch: 2/20... Step: 140... Loss: 2.6159... Val Loss: 2.5570\n",
            "Epoch: 2/20... Step: 150... Loss: 2.5571... Val Loss: 2.5096\n",
            "Epoch: 2/20... Step: 160... Loss: 2.5098... Val Loss: 2.4649\n",
            "Epoch: 2/20... Step: 170... Loss: 2.4480... Val Loss: 2.4288\n",
            "Epoch: 2/20... Step: 180... Loss: 2.4202... Val Loss: 2.3958\n",
            "Epoch: 2/20... Step: 190... Loss: 2.3718... Val Loss: 2.3697\n",
            "Epoch: 2/20... Step: 200... Loss: 2.3738... Val Loss: 2.3332\n",
            "Epoch: 2/20... Step: 210... Loss: 2.3353... Val Loss: 2.3045\n",
            "Epoch: 2/20... Step: 220... Loss: 2.2902... Val Loss: 2.2764\n",
            "Epoch: 2/20... Step: 230... Loss: 2.2935... Val Loss: 2.2648\n",
            "Epoch: 2/20... Step: 240... Loss: 2.2579... Val Loss: 2.2300\n",
            "Epoch: 2/20... Step: 250... Loss: 2.1970... Val Loss: 2.1986\n",
            "Epoch: 2/20... Step: 260... Loss: 2.1737... Val Loss: 2.1702\n",
            "Epoch: 2/20... Step: 270... Loss: 2.1827... Val Loss: 2.1488\n",
            "Epoch: 3/20... Step: 280... Loss: 2.1723... Val Loss: 2.1298\n",
            "Epoch: 3/20... Step: 290... Loss: 2.1417... Val Loss: 2.1032\n",
            "Epoch: 3/20... Step: 300... Loss: 2.1165... Val Loss: 2.0848\n",
            "Epoch: 3/20... Step: 310... Loss: 2.0948... Val Loss: 2.0728\n",
            "Epoch: 3/20... Step: 320... Loss: 2.0553... Val Loss: 2.0487\n",
            "Epoch: 3/20... Step: 330... Loss: 2.0325... Val Loss: 2.0295\n",
            "Epoch: 3/20... Step: 340... Loss: 2.0550... Val Loss: 2.0116\n",
            "Epoch: 3/20... Step: 350... Loss: 2.0288... Val Loss: 2.0032\n",
            "Epoch: 3/20... Step: 360... Loss: 1.9577... Val Loss: 1.9821\n",
            "Epoch: 3/20... Step: 370... Loss: 1.9954... Val Loss: 1.9651\n",
            "Epoch: 3/20... Step: 380... Loss: 1.9680... Val Loss: 1.9472\n",
            "Epoch: 3/20... Step: 390... Loss: 1.9433... Val Loss: 1.9327\n",
            "Epoch: 3/20... Step: 400... Loss: 1.9166... Val Loss: 1.9246\n",
            "Epoch: 3/20... Step: 410... Loss: 1.9298... Val Loss: 1.9052\n",
            "Epoch: 4/20... Step: 420... Loss: 1.9196... Val Loss: 1.8915\n",
            "Epoch: 4/20... Step: 430... Loss: 1.9047... Val Loss: 1.8802\n",
            "Epoch: 4/20... Step: 440... Loss: 1.8875... Val Loss: 1.8623\n",
            "Epoch: 4/20... Step: 450... Loss: 1.8338... Val Loss: 1.8479\n",
            "Epoch: 4/20... Step: 460... Loss: 1.8202... Val Loss: 1.8405\n",
            "Epoch: 4/20... Step: 470... Loss: 1.8626... Val Loss: 1.8299\n",
            "Epoch: 4/20... Step: 480... Loss: 1.8289... Val Loss: 1.8156\n",
            "Epoch: 4/20... Step: 490... Loss: 1.8380... Val Loss: 1.8052\n",
            "Epoch: 4/20... Step: 500... Loss: 1.8383... Val Loss: 1.7945\n",
            "Epoch: 4/20... Step: 510... Loss: 1.8033... Val Loss: 1.7818\n",
            "Epoch: 4/20... Step: 520... Loss: 1.8170... Val Loss: 1.7743\n",
            "Epoch: 4/20... Step: 530... Loss: 1.7804... Val Loss: 1.7690\n",
            "Epoch: 4/20... Step: 540... Loss: 1.7491... Val Loss: 1.7527\n",
            "Epoch: 4/20... Step: 550... Loss: 1.7939... Val Loss: 1.7440\n",
            "Epoch: 5/20... Step: 560... Loss: 1.7567... Val Loss: 1.7356\n",
            "Epoch: 5/20... Step: 570... Loss: 1.7433... Val Loss: 1.7264\n",
            "Epoch: 5/20... Step: 580... Loss: 1.7254... Val Loss: 1.7164\n",
            "Epoch: 5/20... Step: 590... Loss: 1.7211... Val Loss: 1.7076\n",
            "Epoch: 5/20... Step: 600... Loss: 1.7084... Val Loss: 1.7037\n",
            "Epoch: 5/20... Step: 610... Loss: 1.7017... Val Loss: 1.6948\n",
            "Epoch: 5/20... Step: 620... Loss: 1.6974... Val Loss: 1.6882\n",
            "Epoch: 5/20... Step: 630... Loss: 1.7214... Val Loss: 1.6823\n",
            "Epoch: 5/20... Step: 640... Loss: 1.6830... Val Loss: 1.6721\n",
            "Epoch: 5/20... Step: 650... Loss: 1.6717... Val Loss: 1.6626\n",
            "Epoch: 5/20... Step: 660... Loss: 1.6635... Val Loss: 1.6593\n",
            "Epoch: 5/20... Step: 670... Loss: 1.6725... Val Loss: 1.6555\n",
            "Epoch: 5/20... Step: 680... Loss: 1.6694... Val Loss: 1.6486\n",
            "Epoch: 5/20... Step: 690... Loss: 1.6497... Val Loss: 1.6416\n",
            "Epoch: 6/20... Step: 700... Loss: 1.6535... Val Loss: 1.6338\n",
            "Epoch: 6/20... Step: 710... Loss: 1.6401... Val Loss: 1.6279\n",
            "Epoch: 6/20... Step: 720... Loss: 1.6254... Val Loss: 1.6201\n",
            "Epoch: 6/20... Step: 730... Loss: 1.6359... Val Loss: 1.6183\n",
            "Epoch: 6/20... Step: 740... Loss: 1.6148... Val Loss: 1.6128\n",
            "Epoch: 6/20... Step: 750... Loss: 1.5931... Val Loss: 1.6059\n",
            "Epoch: 6/20... Step: 760... Loss: 1.6297... Val Loss: 1.6041\n",
            "Epoch: 6/20... Step: 770... Loss: 1.6174... Val Loss: 1.6010\n",
            "Epoch: 6/20... Step: 780... Loss: 1.5936... Val Loss: 1.5957\n",
            "Epoch: 6/20... Step: 790... Loss: 1.5796... Val Loss: 1.5883\n",
            "Epoch: 6/20... Step: 800... Loss: 1.5917... Val Loss: 1.5806\n",
            "Epoch: 6/20... Step: 810... Loss: 1.5864... Val Loss: 1.5777\n",
            "Epoch: 6/20... Step: 820... Loss: 1.5491... Val Loss: 1.5697\n",
            "Epoch: 6/20... Step: 830... Loss: 1.5923... Val Loss: 1.5657\n",
            "Epoch: 7/20... Step: 840... Loss: 1.5460... Val Loss: 1.5625\n",
            "Epoch: 7/20... Step: 850... Loss: 1.5574... Val Loss: 1.5590\n",
            "Epoch: 7/20... Step: 860... Loss: 1.5444... Val Loss: 1.5540\n",
            "Epoch: 7/20... Step: 870... Loss: 1.5608... Val Loss: 1.5496\n",
            "Epoch: 7/20... Step: 880... Loss: 1.5584... Val Loss: 1.5449\n",
            "Epoch: 7/20... Step: 890... Loss: 1.5497... Val Loss: 1.5424\n",
            "Epoch: 7/20... Step: 900... Loss: 1.5341... Val Loss: 1.5381\n",
            "Epoch: 7/20... Step: 910... Loss: 1.5091... Val Loss: 1.5368\n",
            "Epoch: 7/20... Step: 920... Loss: 1.5299... Val Loss: 1.5303\n",
            "Epoch: 7/20... Step: 930... Loss: 1.5163... Val Loss: 1.5271\n",
            "Epoch: 7/20... Step: 940... Loss: 1.5221... Val Loss: 1.5280\n",
            "Epoch: 7/20... Step: 950... Loss: 1.5382... Val Loss: 1.5200\n",
            "Epoch: 7/20... Step: 960... Loss: 1.5337... Val Loss: 1.5193\n",
            "Epoch: 7/20... Step: 970... Loss: 1.5333... Val Loss: 1.5130\n",
            "Epoch: 8/20... Step: 980... Loss: 1.5037... Val Loss: 1.5094\n",
            "Epoch: 8/20... Step: 990... Loss: 1.5095... Val Loss: 1.5052\n",
            "Epoch: 8/20... Step: 1000... Loss: 1.4972... Val Loss: 1.5013\n",
            "Epoch: 8/20... Step: 1010... Loss: 1.5379... Val Loss: 1.5006\n",
            "Epoch: 8/20... Step: 1020... Loss: 1.5090... Val Loss: 1.4978\n",
            "Epoch: 8/20... Step: 1030... Loss: 1.4862... Val Loss: 1.4959\n",
            "Epoch: 8/20... Step: 1040... Loss: 1.4996... Val Loss: 1.4940\n",
            "Epoch: 8/20... Step: 1050... Loss: 1.4683... Val Loss: 1.4891\n",
            "Epoch: 8/20... Step: 1060... Loss: 1.4842... Val Loss: 1.4855\n",
            "Epoch: 8/20... Step: 1070... Loss: 1.4921... Val Loss: 1.4826\n",
            "Epoch: 8/20... Step: 1080... Loss: 1.4868... Val Loss: 1.4826\n",
            "Epoch: 8/20... Step: 1090... Loss: 1.4648... Val Loss: 1.4803\n",
            "Epoch: 8/20... Step: 1100... Loss: 1.4548... Val Loss: 1.4763\n",
            "Epoch: 8/20... Step: 1110... Loss: 1.4719... Val Loss: 1.4712\n",
            "Epoch: 9/20... Step: 1120... Loss: 1.4824... Val Loss: 1.4689\n",
            "Epoch: 9/20... Step: 1130... Loss: 1.4745... Val Loss: 1.4666\n",
            "Epoch: 9/20... Step: 1140... Loss: 1.4732... Val Loss: 1.4630\n",
            "Epoch: 9/20... Step: 1150... Loss: 1.4850... Val Loss: 1.4638\n",
            "Epoch: 9/20... Step: 1160... Loss: 1.4442... Val Loss: 1.4604\n",
            "Epoch: 9/20... Step: 1170... Loss: 1.4551... Val Loss: 1.4602\n",
            "Epoch: 9/20... Step: 1180... Loss: 1.4458... Val Loss: 1.4585\n",
            "Epoch: 9/20... Step: 1190... Loss: 1.4719... Val Loss: 1.4543\n",
            "Epoch: 9/20... Step: 1200... Loss: 1.4226... Val Loss: 1.4498\n",
            "Epoch: 9/20... Step: 1210... Loss: 1.4383... Val Loss: 1.4489\n",
            "Epoch: 9/20... Step: 1220... Loss: 1.4306... Val Loss: 1.4461\n",
            "Epoch: 9/20... Step: 1230... Loss: 1.4211... Val Loss: 1.4426\n",
            "Epoch: 9/20... Step: 1240... Loss: 1.4203... Val Loss: 1.4426\n",
            "Epoch: 9/20... Step: 1250... Loss: 1.4245... Val Loss: 1.4378\n",
            "Epoch: 10/20... Step: 1260... Loss: 1.4330... Val Loss: 1.4385\n",
            "Epoch: 10/20... Step: 1270... Loss: 1.4280... Val Loss: 1.4371\n",
            "Epoch: 10/20... Step: 1280... Loss: 1.4457... Val Loss: 1.4307\n",
            "Epoch: 10/20... Step: 1290... Loss: 1.4249... Val Loss: 1.4344\n",
            "Epoch: 10/20... Step: 1300... Loss: 1.4171... Val Loss: 1.4275\n",
            "Epoch: 10/20... Step: 1310... Loss: 1.4239... Val Loss: 1.4269\n",
            "Epoch: 10/20... Step: 1320... Loss: 1.4018... Val Loss: 1.4229\n",
            "Epoch: 10/20... Step: 1330... Loss: 1.3994... Val Loss: 1.4248\n",
            "Epoch: 10/20... Step: 1340... Loss: 1.3933... Val Loss: 1.4212\n",
            "Epoch: 10/20... Step: 1350... Loss: 1.3927... Val Loss: 1.4186\n",
            "Epoch: 10/20... Step: 1360... Loss: 1.3893... Val Loss: 1.4171\n",
            "Epoch: 10/20... Step: 1370... Loss: 1.3769... Val Loss: 1.4154\n",
            "Epoch: 10/20... Step: 1380... Loss: 1.4197... Val Loss: 1.4157\n",
            "Epoch: 10/20... Step: 1390... Loss: 1.4192... Val Loss: 1.4120\n",
            "Epoch: 11/20... Step: 1400... Loss: 1.4172... Val Loss: 1.4106\n",
            "Epoch: 11/20... Step: 1410... Loss: 1.4361... Val Loss: 1.4120\n",
            "Epoch: 11/20... Step: 1420... Loss: 1.4239... Val Loss: 1.4072\n",
            "Epoch: 11/20... Step: 1430... Loss: 1.3812... Val Loss: 1.4115\n",
            "Epoch: 11/20... Step: 1440... Loss: 1.4141... Val Loss: 1.4047\n",
            "Epoch: 11/20... Step: 1450... Loss: 1.3518... Val Loss: 1.4045\n",
            "Epoch: 11/20... Step: 1460... Loss: 1.3742... Val Loss: 1.3988\n",
            "Epoch: 11/20... Step: 1470... Loss: 1.3684... Val Loss: 1.3993\n",
            "Epoch: 11/20... Step: 1480... Loss: 1.3782... Val Loss: 1.3978\n",
            "Epoch: 11/20... Step: 1490... Loss: 1.3767... Val Loss: 1.3967\n",
            "Epoch: 11/20... Step: 1500... Loss: 1.3630... Val Loss: 1.3962\n",
            "Epoch: 11/20... Step: 1510... Loss: 1.3413... Val Loss: 1.3910\n",
            "Epoch: 11/20... Step: 1520... Loss: 1.3857... Val Loss: 1.3887\n",
            "Epoch: 12/20... Step: 1530... Loss: 1.4282... Val Loss: 1.3920\n",
            "Epoch: 12/20... Step: 1540... Loss: 1.3860... Val Loss: 1.3882\n",
            "Epoch: 12/20... Step: 1550... Loss: 1.3890... Val Loss: 1.3869\n",
            "Epoch: 12/20... Step: 1560... Loss: 1.3966... Val Loss: 1.3819\n",
            "Epoch: 12/20... Step: 1570... Loss: 1.3437... Val Loss: 1.3902\n",
            "Epoch: 12/20... Step: 1580... Loss: 1.3302... Val Loss: 1.3843\n",
            "Epoch: 12/20... Step: 1590... Loss: 1.3180... Val Loss: 1.3828\n",
            "Epoch: 12/20... Step: 1600... Loss: 1.3487... Val Loss: 1.3768\n",
            "Epoch: 12/20... Step: 1610... Loss: 1.3408... Val Loss: 1.3793\n",
            "Epoch: 12/20... Step: 1620... Loss: 1.3353... Val Loss: 1.3746\n",
            "Epoch: 12/20... Step: 1630... Loss: 1.3658... Val Loss: 1.3764\n",
            "Epoch: 12/20... Step: 1640... Loss: 1.3366... Val Loss: 1.3776\n",
            "Epoch: 12/20... Step: 1650... Loss: 1.3075... Val Loss: 1.3731\n",
            "Epoch: 12/20... Step: 1660... Loss: 1.3638... Val Loss: 1.3682\n",
            "Epoch: 13/20... Step: 1670... Loss: 1.3314... Val Loss: 1.3675\n",
            "Epoch: 13/20... Step: 1680... Loss: 1.3466... Val Loss: 1.3620\n",
            "Epoch: 13/20... Step: 1690... Loss: 1.3374... Val Loss: 1.3610\n",
            "Epoch: 13/20... Step: 1700... Loss: 1.3340... Val Loss: 1.3608\n",
            "Epoch: 13/20... Step: 1710... Loss: 1.3059... Val Loss: 1.3637\n",
            "Epoch: 13/20... Step: 1720... Loss: 1.3073... Val Loss: 1.3631\n",
            "Epoch: 13/20... Step: 1730... Loss: 1.3526... Val Loss: 1.3598\n",
            "Epoch: 13/20... Step: 1740... Loss: 1.3090... Val Loss: 1.3538\n",
            "Epoch: 13/20... Step: 1750... Loss: 1.2928... Val Loss: 1.3563\n",
            "Epoch: 13/20... Step: 1760... Loss: 1.3095... Val Loss: 1.3573\n",
            "Epoch: 13/20... Step: 1770... Loss: 1.3388... Val Loss: 1.3512\n",
            "Epoch: 13/20... Step: 1780... Loss: 1.3025... Val Loss: 1.3531\n",
            "Epoch: 13/20... Step: 1790... Loss: 1.3016... Val Loss: 1.3495\n",
            "Epoch: 13/20... Step: 1800... Loss: 1.3176... Val Loss: 1.3494\n",
            "Epoch: 14/20... Step: 1810... Loss: 1.3316... Val Loss: 1.3467\n",
            "Epoch: 14/20... Step: 1820... Loss: 1.3067... Val Loss: 1.3394\n",
            "Epoch: 14/20... Step: 1830... Loss: 1.3233... Val Loss: 1.3383\n",
            "Epoch: 14/20... Step: 1840... Loss: 1.2693... Val Loss: 1.3384\n",
            "Epoch: 14/20... Step: 1850... Loss: 1.2651... Val Loss: 1.3443\n",
            "Epoch: 14/20... Step: 1860... Loss: 1.3144... Val Loss: 1.3405\n",
            "Epoch: 14/20... Step: 1870... Loss: 1.3295... Val Loss: 1.3404\n",
            "Epoch: 14/20... Step: 1880... Loss: 1.3035... Val Loss: 1.3357\n",
            "Epoch: 14/20... Step: 1890... Loss: 1.3313... Val Loss: 1.3396\n",
            "Epoch: 14/20... Step: 1900... Loss: 1.3076... Val Loss: 1.3359\n",
            "Epoch: 14/20... Step: 1910... Loss: 1.2971... Val Loss: 1.3365\n",
            "Epoch: 14/20... Step: 1920... Loss: 1.2900... Val Loss: 1.3353\n",
            "Epoch: 14/20... Step: 1930... Loss: 1.2701... Val Loss: 1.3373\n",
            "Epoch: 14/20... Step: 1940... Loss: 1.3218... Val Loss: 1.3324\n",
            "Epoch: 15/20... Step: 1950... Loss: 1.2902... Val Loss: 1.3302\n",
            "Epoch: 15/20... Step: 1960... Loss: 1.2826... Val Loss: 1.3275\n",
            "Epoch: 15/20... Step: 1970... Loss: 1.2789... Val Loss: 1.3247\n",
            "Epoch: 15/20... Step: 1980... Loss: 1.2668... Val Loss: 1.3288\n",
            "Epoch: 15/20... Step: 1990... Loss: 1.2733... Val Loss: 1.3238\n",
            "Epoch: 15/20... Step: 2000... Loss: 1.2523... Val Loss: 1.3232\n",
            "Epoch: 15/20... Step: 2010... Loss: 1.2808... Val Loss: 1.3240\n",
            "Epoch: 15/20... Step: 2020... Loss: 1.3034... Val Loss: 1.3301\n",
            "Epoch: 15/20... Step: 2030... Loss: 1.2703... Val Loss: 1.3295\n",
            "Epoch: 15/20... Step: 2040... Loss: 1.2912... Val Loss: 1.3230\n",
            "Epoch: 15/20... Step: 2050... Loss: 1.2674... Val Loss: 1.3229\n",
            "Epoch: 15/20... Step: 2060... Loss: 1.2728... Val Loss: 1.3188\n",
            "Epoch: 15/20... Step: 2070... Loss: 1.2860... Val Loss: 1.3178\n",
            "Epoch: 15/20... Step: 2080... Loss: 1.2810... Val Loss: 1.3170\n",
            "Epoch: 16/20... Step: 2090... Loss: 1.2814... Val Loss: 1.3171\n",
            "Epoch: 16/20... Step: 2100... Loss: 1.2687... Val Loss: 1.3117\n",
            "Epoch: 16/20... Step: 2110... Loss: 1.2558... Val Loss: 1.3198\n",
            "Epoch: 16/20... Step: 2120... Loss: 1.2753... Val Loss: 1.3156\n",
            "Epoch: 16/20... Step: 2130... Loss: 1.2498... Val Loss: 1.3145\n",
            "Epoch: 16/20... Step: 2140... Loss: 1.2642... Val Loss: 1.3082\n",
            "Epoch: 16/20... Step: 2150... Loss: 1.2925... Val Loss: 1.3122\n",
            "Epoch: 16/20... Step: 2160... Loss: 1.2730... Val Loss: 1.3091\n",
            "Epoch: 16/20... Step: 2170... Loss: 1.2621... Val Loss: 1.3099\n",
            "Epoch: 16/20... Step: 2180... Loss: 1.2562... Val Loss: 1.3047\n",
            "Epoch: 16/20... Step: 2190... Loss: 1.2809... Val Loss: 1.3158\n",
            "Epoch: 16/20... Step: 2200... Loss: 1.2507... Val Loss: 1.3110\n",
            "Epoch: 16/20... Step: 2210... Loss: 1.2186... Val Loss: 1.3054\n",
            "Epoch: 16/20... Step: 2220... Loss: 1.2753... Val Loss: 1.3051\n",
            "Epoch: 17/20... Step: 2230... Loss: 1.2419... Val Loss: 1.3155\n",
            "Epoch: 17/20... Step: 2240... Loss: 1.2554... Val Loss: 1.3020\n",
            "Epoch: 17/20... Step: 2250... Loss: 1.2364... Val Loss: 1.3066\n",
            "Epoch: 17/20... Step: 2260... Loss: 1.2585... Val Loss: 1.3027\n",
            "Epoch: 17/20... Step: 2270... Loss: 1.2511... Val Loss: 1.3048\n",
            "Epoch: 17/20... Step: 2280... Loss: 1.2730... Val Loss: 1.3032\n",
            "Epoch: 17/20... Step: 2290... Loss: 1.2529... Val Loss: 1.3023\n",
            "Epoch: 17/20... Step: 2300... Loss: 1.2229... Val Loss: 1.2990\n",
            "Epoch: 17/20... Step: 2310... Loss: 1.2474... Val Loss: 1.3039\n",
            "Epoch: 17/20... Step: 2320... Loss: 1.2382... Val Loss: 1.2966\n",
            "Epoch: 17/20... Step: 2330... Loss: 1.2378... Val Loss: 1.3021\n",
            "Epoch: 17/20... Step: 2340... Loss: 1.2594... Val Loss: 1.2978\n",
            "Epoch: 17/20... Step: 2350... Loss: 1.2564... Val Loss: 1.2963\n",
            "Epoch: 17/20... Step: 2360... Loss: 1.2597... Val Loss: 1.2975\n",
            "Epoch: 18/20... Step: 2370... Loss: 1.2343... Val Loss: 1.2955\n",
            "Epoch: 18/20... Step: 2380... Loss: 1.2363... Val Loss: 1.2973\n",
            "Epoch: 18/20... Step: 2390... Loss: 1.2373... Val Loss: 1.2945\n",
            "Epoch: 18/20... Step: 2400... Loss: 1.2672... Val Loss: 1.2907\n",
            "Epoch: 18/20... Step: 2410... Loss: 1.2629... Val Loss: 1.2918\n",
            "Epoch: 18/20... Step: 2420... Loss: 1.2272... Val Loss: 1.2880\n",
            "Epoch: 18/20... Step: 2430... Loss: 1.2330... Val Loss: 1.2930\n",
            "Epoch: 18/20... Step: 2440... Loss: 1.2202... Val Loss: 1.2897\n",
            "Epoch: 18/20... Step: 2450... Loss: 1.2264... Val Loss: 1.2894\n",
            "Epoch: 18/20... Step: 2460... Loss: 1.2463... Val Loss: 1.2871\n",
            "Epoch: 18/20... Step: 2470... Loss: 1.2280... Val Loss: 1.2905\n",
            "Epoch: 18/20... Step: 2480... Loss: 1.2185... Val Loss: 1.2918\n",
            "Epoch: 18/20... Step: 2490... Loss: 1.2082... Val Loss: 1.2851\n",
            "Epoch: 18/20... Step: 2500... Loss: 1.2265... Val Loss: 1.2892\n",
            "Epoch: 19/20... Step: 2510... Loss: 1.2215... Val Loss: 1.2899\n",
            "Epoch: 19/20... Step: 2520... Loss: 1.2332... Val Loss: 1.2925\n",
            "Epoch: 19/20... Step: 2530... Loss: 1.2391... Val Loss: 1.2889\n",
            "Epoch: 19/20... Step: 2540... Loss: 1.2560... Val Loss: 1.2875\n",
            "Epoch: 19/20... Step: 2550... Loss: 1.2135... Val Loss: 1.2873\n",
            "Epoch: 19/20... Step: 2560... Loss: 1.2361... Val Loss: 1.2835\n",
            "Epoch: 19/20... Step: 2570... Loss: 1.2163... Val Loss: 1.2801\n",
            "Epoch: 19/20... Step: 2580... Loss: 1.2495... Val Loss: 1.2836\n",
            "Epoch: 19/20... Step: 2590... Loss: 1.2117... Val Loss: 1.2785\n",
            "Epoch: 19/20... Step: 2600... Loss: 1.2139... Val Loss: 1.2791\n",
            "Epoch: 19/20... Step: 2610... Loss: 1.2177... Val Loss: 1.2818\n",
            "Epoch: 19/20... Step: 2620... Loss: 1.1960... Val Loss: 1.2805\n",
            "Epoch: 19/20... Step: 2630... Loss: 1.2116... Val Loss: 1.2819\n",
            "Epoch: 19/20... Step: 2640... Loss: 1.2230... Val Loss: 1.2787\n",
            "Epoch: 20/20... Step: 2650... Loss: 1.2232... Val Loss: 1.2808\n",
            "Epoch: 20/20... Step: 2660... Loss: 1.2245... Val Loss: 1.2819\n",
            "Epoch: 20/20... Step: 2670... Loss: 1.2333... Val Loss: 1.2779\n",
            "Epoch: 20/20... Step: 2680... Loss: 1.2226... Val Loss: 1.2772\n",
            "Epoch: 20/20... Step: 2690... Loss: 1.2088... Val Loss: 1.2816\n",
            "Epoch: 20/20... Step: 2700... Loss: 1.2189... Val Loss: 1.2759\n",
            "Epoch: 20/20... Step: 2710... Loss: 1.1926... Val Loss: 1.2739\n",
            "Epoch: 20/20... Step: 2720... Loss: 1.1935... Val Loss: 1.2793\n",
            "Epoch: 20/20... Step: 2730... Loss: 1.1904... Val Loss: 1.2787\n",
            "Epoch: 20/20... Step: 2740... Loss: 1.1976... Val Loss: 1.2843\n",
            "Epoch: 20/20... Step: 2750... Loss: 1.2019... Val Loss: 1.2760\n",
            "Epoch: 20/20... Step: 2760... Loss: 1.1883... Val Loss: 1.2775\n",
            "Epoch: 20/20... Step: 2770... Loss: 1.2309... Val Loss: 1.2719\n",
            "Epoch: 20/20... Step: 2780... Loss: 1.2455... Val Loss: 1.2715\n"
          ]
        }
      ],
      "source": [
        "batch_size = 128\n",
        "seq_length = 100\n",
        "n_epochs = 20 # start smaller if you are just testing initial behavior\n",
        "\n",
        "# train the model\n",
        "train(net, encoded, epochs=n_epochs, batch_size=batch_size, seq_length=seq_length, lr=0.001, print_every=10)"
      ]
    },
    {
      "cell_type": "markdown",
      "metadata": {
        "id": "3TNgEPmypVZy"
      },
      "source": [
        "## Getting the best model\n",
        "\n",
        "To set your hyperparameters to get the best performance, you'll want to watch the training and validation losses. If your training loss is much lower than the validation loss, you're overfitting. Increase regularization (more dropout) or use a smaller network. If the training and validation losses are close, you're underfitting so you can increase the size of the network."
      ]
    },
    {
      "cell_type": "markdown",
      "metadata": {
        "id": "vWSoEuR5pVZz"
      },
      "source": [
        "## Hyperparameters\n",
        "\n",
        "Here are the hyperparameters for the network.\n",
        "\n",
        "In defining the model:\n",
        "* `n_hidden` - The number of units in the hidden layers.\n",
        "* `n_layers` - Number of hidden LSTM layers to use.\n",
        "\n",
        "We assume that dropout probability and learning rate will be kept at the default, in this example.\n",
        "\n",
        "And in training:\n",
        "* `batch_size` - Number of sequences running through the network in one pass.\n",
        "* `seq_length` - Number of characters in the sequence the network is trained on. Larger is better typically, the network will learn more long range dependencies. But it takes longer to train. 100 is typically a good number here.\n",
        "* `lr` - Learning rate for training\n",
        "\n",
        "Here's some good advice from Andrej Karpathy on training the network. I'm going to copy it in here for your benefit, but also link to [where it originally came from](https://github.com/karpathy/char-rnn#tips-and-tricks).\n",
        "\n",
        "> ## Tips and Tricks\n",
        "\n",
        ">### Monitoring Validation Loss vs. Training Loss\n",
        ">If you're somewhat new to Machine Learning or Neural Networks it can take a bit of expertise to get good models. The most important quantity to keep track of is the difference between your training loss (printed during training) and the validation loss (printed once in a while when the RNN is run on the validation data (by default every 1000 iterations)). In particular:\n",
        "\n",
        "> - If your training loss is much lower than validation loss then this means the network might be **overfitting**. Solutions to this are to decrease your network size, or to increase dropout. For example you could try dropout of 0.5 and so on.\n",
        "> - If your training/validation loss are about equal then your model is **underfitting**. Increase the size of your model (either number of layers or the raw number of neurons per layer)\n",
        "\n",
        "> ### Approximate number of parameters\n",
        "\n",
        "> The two most important parameters that control the model are `n_hidden` and `n_layers`. I would advise that you always use `n_layers` of either 2/3. The `n_hidden` can be adjusted based on how much data you have. The two important quantities to keep track of here are:\n",
        "\n",
        "> - The number of parameters in your model. This is printed when you start training.\n",
        "> - The size of your dataset. 1MB file is approximately 1 million characters.\n",
        "\n",
        ">These two should be about the same order of magnitude. It's a little tricky to tell. Here are some examples:\n",
        "\n",
        "> - I have a 100MB dataset and I'm using the default parameter settings (which currently print 150K parameters). My data size is significantly larger (100 mil >> 0.15 mil), so I expect to heavily underfit. I am thinking I can comfortably afford to make `n_hidden` larger.\n",
        "> - I have a 10MB dataset and running a 10 million parameter model. I'm slightly nervous and I'm carefully monitoring my validation loss. If it's larger than my training loss then I may want to try to increase dropout a bit and see if that helps the validation loss.\n",
        "\n",
        "> ### Best models strategy\n",
        "\n",
        ">The winning strategy to obtaining very good models (if you have the compute time) is to always err on making the network larger (as large as you're willing to wait for it to compute) and then try different dropout values (between 0,1). Whatever model has the best validation performance (the loss, written in the checkpoint filename, low is good) is the one you should use in the end.\n",
        "\n",
        ">It is very common in deep learning to run many different models with many different hyperparameter settings, and in the end take whatever checkpoint gave the best validation performance.\n",
        "\n",
        ">By the way, the size of your training and validation splits are also parameters. Make sure you have a decent amount of data in your validation set or otherwise the validation performance will be noisy and not very informative."
      ]
    },
    {
      "cell_type": "markdown",
      "metadata": {
        "id": "T5qTPXHNpVZ0"
      },
      "source": [
        "## Checkpoint\n",
        "\n",
        "After training, we'll save the model so we can load it again later if we need too. Here I'm saving the parameters needed to create the same architecture, the hidden layer hyperparameters and the text characters."
      ]
    },
    {
      "cell_type": "code",
      "execution_count": 20,
      "metadata": {
        "collapsed": true,
        "id": "lkKhrKtqpVZ0"
      },
      "outputs": [],
      "source": [
        "# change the name, for saving multiple files\n",
        "model_name = 'rnn_x_epoch.net'\n",
        "\n",
        "checkpoint = {'n_hidden': net.n_hidden,\n",
        "              'n_layers': net.n_layers,\n",
        "              'state_dict': net.state_dict(),\n",
        "              'tokens': net.chars}\n",
        "\n",
        "with open(model_name, 'wb') as f:\n",
        "    torch.save(checkpoint, f)"
      ]
    },
    {
      "cell_type": "markdown",
      "metadata": {
        "id": "YdHirbaHpVZ1"
      },
      "source": [
        "---\n",
        "## Making Predictions\n",
        "\n",
        "Now that the model is trained, we'll want to sample from it and make predictions about next characters! To sample, we pass in a character and have the network predict the next character. Then we take that character, pass it back in, and get another predicted character. Just keep doing this and you'll generate a bunch of text!\n",
        "\n",
        "### A note on the `predict`  function\n",
        "\n",
        "The output of our RNN is from a fully-connected layer and it outputs a **distribution of next-character scores**.\n",
        "\n",
        "> To actually get the next character, we apply a softmax function, which gives us a *probability* distribution that we can then sample to predict the next character.\n",
        "\n",
        "### Top K sampling\n",
        "\n",
        "Our predictions come from a categorical probability distribution over all the possible characters. We can make the sample text and make it more reasonable to handle (with less variables) by only considering some $K$ most probable characters. This will prevent the network from giving us completely absurd characters while allowing it to introduce some noise and randomness into the sampled text. Read more about [topk, here](https://pytorch.org/docs/stable/torch.html#torch.topk).\n"
      ]
    },
    {
      "cell_type": "code",
      "execution_count": 21,
      "metadata": {
        "collapsed": true,
        "id": "ATIvpZtupVZ1"
      },
      "outputs": [],
      "source": [
        "def predict(net, char, h=None, top_k=None):\n",
        "        ''' Given a character, predict the next character.\n",
        "            Returns the predicted character and the hidden state.\n",
        "        '''\n",
        "        \n",
        "        # tensor inputs\n",
        "        x = np.array([[net.char2int[char]]])\n",
        "        x = one_hot_encode(x, len(net.chars))\n",
        "        inputs = torch.from_numpy(x)\n",
        "        \n",
        "        if(train_on_gpu):\n",
        "            inputs = inputs.cuda()\n",
        "        \n",
        "        # detach hidden state from history\n",
        "        h = tuple([each.data for each in h])\n",
        "        # get the output of the model\n",
        "        out, h = net(inputs, h)\n",
        "\n",
        "        # get the character probabilities\n",
        "        p = F.softmax(out, dim=1).data\n",
        "        if(train_on_gpu):\n",
        "            p = p.cpu() # move to cpu\n",
        "        \n",
        "        # get top characters\n",
        "        if top_k is None:\n",
        "            top_ch = np.arange(len(net.chars))\n",
        "        else:\n",
        "            p, top_ch = p.topk(top_k)\n",
        "            top_ch = top_ch.numpy().squeeze()\n",
        "        \n",
        "        # select the likely next character with some element of randomness\n",
        "        p = p.numpy().squeeze()\n",
        "        char = np.random.choice(top_ch, p=p/p.sum())\n",
        "        \n",
        "        # return the encoded value of the predicted char and the hidden state\n",
        "        return net.int2char[char], h"
      ]
    },
    {
      "cell_type": "markdown",
      "metadata": {
        "id": "nNGQ3I49pVZ2"
      },
      "source": [
        "### Priming and generating text \n",
        "\n",
        "Typically you'll want to prime the network so you can build up a hidden state. Otherwise the network will start out generating characters at random. In general the first bunch of characters will be a little rough since it hasn't built up a long history of characters to predict from."
      ]
    },
    {
      "cell_type": "code",
      "execution_count": 22,
      "metadata": {
        "collapsed": true,
        "id": "jLRsMYorpVZ3"
      },
      "outputs": [],
      "source": [
        "def sample(net, size, prime='The', top_k=None):\n",
        "        \n",
        "    if(train_on_gpu):\n",
        "        net.cuda()\n",
        "    else:\n",
        "        net.cpu()\n",
        "    \n",
        "    net.eval() # eval mode\n",
        "    \n",
        "    # First off, run through the prime characters\n",
        "    chars = [ch for ch in prime]\n",
        "    h = net.init_hidden(1)\n",
        "    for ch in prime:\n",
        "        char, h = predict(net, ch, h, top_k=top_k)\n",
        "\n",
        "    chars.append(char)\n",
        "    \n",
        "    # Now pass in the previous character and get a new one\n",
        "    for ii in range(size):\n",
        "        char, h = predict(net, chars[-1], h, top_k=top_k)\n",
        "        chars.append(char)\n",
        "\n",
        "    return ''.join(chars)"
      ]
    },
    {
      "cell_type": "code",
      "execution_count": 23,
      "metadata": {
        "collapsed": true,
        "colab": {
          "base_uri": "https://localhost:8080/"
        },
        "id": "tdUbkK8SpVZ3",
        "outputId": "db3693f1-3176-4c32-e975-55b236d2bbb1"
      },
      "outputs": [
        {
          "output_type": "stream",
          "name": "stdout",
          "text": [
            "Anna, he\n",
            "saw it, simplising to her, that it asked any there.\n",
            "\n",
            "\"What dress ask hard one firs of a stand was an ordinary, to take a little\n",
            "sort, but it's not the peasants and some chairs. And he will be disingleds\n",
            "for you to suffer, but you see.\"\n",
            "\n",
            "\"I should have been so all that I want to be at once, and what if he has\n",
            "the same simple tone in his mind he should have all that the\n",
            "sun sociedy art had not been in sube at a chail, that's still;\" he said,\n",
            "lifting the princess.\n",
            "\n",
            "\"And we all sure I don't bur extrairtess,\" he said with such and\n",
            "fingers, but to the children with the discussion of\n",
            "which they sat sore in his bader hand walked again, and with a\n",
            "cercuisies in his face with a form of heaving, and taking the\n",
            "secret of the precest of a shade of her heart.\n",
            "\n",
            "\"I have disagreeable to such and tell anywhere of the\n",
            "signicion arms from me. I am not all that this simple,\" said Levin, and she\n",
            "would have said all the same to she should have to stoppy the same\n",
            "attraction. They came in to see him all th\n"
          ]
        }
      ],
      "source": [
        "print(sample(net, 1000, prime='Anna', top_k=5))"
      ]
    },
    {
      "cell_type": "markdown",
      "metadata": {
        "id": "Zz0c40QEpVZ4"
      },
      "source": [
        "## Loading a checkpoint"
      ]
    },
    {
      "cell_type": "code",
      "execution_count": 24,
      "metadata": {
        "collapsed": true,
        "colab": {
          "base_uri": "https://localhost:8080/"
        },
        "id": "Gqn-kxC4pVZ4",
        "outputId": "86ed4343-6694-41ae-995d-0a63ade03124"
      },
      "outputs": [
        {
          "output_type": "execute_result",
          "data": {
            "text/plain": [
              "<All keys matched successfully>"
            ]
          },
          "metadata": {},
          "execution_count": 24
        }
      ],
      "source": [
        "# Here we have loaded in a model that trained over 20 epochs `rnn_20_epoch.net`\n",
        "with open('rnn_x_epoch.net', 'rb') as f:\n",
        "    checkpoint = torch.load(f)\n",
        "    \n",
        "loaded = CharRNN(checkpoint['tokens'], n_hidden=checkpoint['n_hidden'], n_layers=checkpoint['n_layers'])\n",
        "loaded.load_state_dict(checkpoint['state_dict'])"
      ]
    },
    {
      "cell_type": "code",
      "execution_count": 25,
      "metadata": {
        "collapsed": true,
        "colab": {
          "base_uri": "https://localhost:8080/"
        },
        "id": "IGDmVZ75pVZ5",
        "outputId": "d529ef69-8b6a-494b-f0e1-0dfd479eedce"
      },
      "outputs": [
        {
          "output_type": "stream",
          "name": "stdout",
          "text": [
            "And Levin said,\n",
            "at the sick man said with the matter which were so passing.\n",
            "\n",
            "\"Well, and you mad mile that I say a little took of in, but you see.\n",
            "And he's not for the subject as she did not know anything, but\n",
            "to think it. And I'm going out to have their\n",
            "pockets,\" said Stepan Arkadyevitch, and smiling into his head, and he had\n",
            "not stardden on the force, and sat down bow and the standing strung,\n",
            "when the properly was nor her fife throag away to his for that\n",
            "secretary and sent at the same doubts of the creatude, and she frowned her father, and\n",
            "stepping at his works, still, the crop in some sight, he said he saw\n",
            "to him.\n",
            "\n",
            "\"I have no right in the children's an ummerserve wouldn't come\n",
            "out,\" and answered how he could not have been and teal and the conversation at his\n",
            "happiness, had been so as a man who was not the peasants of the place to him\n",
            "in the countiness to at once and his face on a countess. He should\n",
            "be to go on whether he went into his brother, and he was saying, and\n",
            "shaker off.\n",
            "\n",
            "\"I went another person of to trush, and terry half the simply the succos as\n",
            "they was, and said they've been done to me. I can be at the clance it\n",
            "did not believe that the marshal in his house, and I don't know which is\n",
            "in a compleciat of my for the painting, and I shall say anything to\n",
            "see, I shall be stirred by their company of a state, and I ad it all. The\n",
            "whole dinning of his brother is the morning, what you see that,\" he said.\n",
            "\"It's however, but if I can't believe in a long thir,\" thought horriral\n",
            "father something to be what he had to speak out, and, turned a dear and\n",
            "serious thinking of it.\n",
            "\n",
            "His coar so at the sense of his heart he had sat at the counting\n",
            "of the commitse of the country.\n",
            "\n",
            "He saw the praned of the peasants too, that he was discovering at\n",
            "hasse of again that he did not see her. The does not see her to\n",
            "her friends and saw, a story at fall of her since he was daughter, he felt the\n",
            "truth with her head, and went out in some time at the prince, who had\n",
            "been decined in an armules the crowd \n"
          ]
        }
      ],
      "source": [
        "# Sample using a loaded model\n",
        "print(sample(loaded, 2000, top_k=5, prime=\"And Levin said\"))"
      ]
    }
  ],
  "metadata": {
    "kernelspec": {
      "display_name": "Python 3.10.5 64-bit",
      "language": "python",
      "name": "python3"
    },
    "language_info": {
      "codemirror_mode": {
        "name": "ipython",
        "version": 3
      },
      "file_extension": ".py",
      "mimetype": "text/x-python",
      "name": "python",
      "nbconvert_exporter": "python",
      "pygments_lexer": "ipython3",
      "version": "3.10.5"
    },
    "vscode": {
      "interpreter": {
        "hash": "df95319d8ce4e1d89f5365ae10992bc1f65da593082b1d264e8f529830ec2f02"
      }
    },
    "colab": {
      "name": "Character_Level_RNN_Exercise.ipynb",
      "provenance": []
    },
    "accelerator": "GPU",
    "gpuClass": "standard"
  },
  "nbformat": 4,
  "nbformat_minor": 0
}